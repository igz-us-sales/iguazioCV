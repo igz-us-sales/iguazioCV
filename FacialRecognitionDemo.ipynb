{
 "cells": [
  {
   "cell_type": "markdown",
   "metadata": {},
   "source": [
    "# Facial Recognition Demo"
   ]
  },
  {
   "cell_type": "markdown",
   "metadata": {},
   "source": [
    "### Set ENV variables"
   ]
  },
  {
   "cell_type": "code",
   "execution_count": 1,
   "metadata": {},
   "outputs": [],
   "source": [
    "%run ./components/util/set_env.ipynb"
   ]
  },
  {
   "cell_type": "markdown",
   "metadata": {},
   "source": [
    "### Setup project"
   ]
  },
  {
   "cell_type": "code",
   "execution_count": 2,
   "metadata": {},
   "outputs": [
    {
     "name": "stdout",
     "output_type": "stream",
     "text": [
      "Project path: /User/iguazioCV/project\n",
      "Project name: facial-recognition-demo\n",
      "Artifacts path: /User/iguazioCV/artifacts\n",
      "MLRun DB path: http://mlrun-api:8080\n"
     ]
    }
   ],
   "source": [
    "import os\n",
    "from os import path, getenv\n",
    "import nuclio\n",
    "from mlrun import new_project, run_local, NewTask, mlconf, import_function, mount_v3io\n",
    "\n",
    "project_name = os.getenv(\"PROJECT\")\n",
    "project_path = path.abspath('project')\n",
    "project = new_project(name=project_name, context=project_path)\n",
    "artifact_path = path.abspath('artifacts')\n",
    "mlconf.dbpath = mlconf.dbpath or 'http://mlrun-api:8080'\n",
    "\n",
    "print(f'Project path: {project_path}\\nProject name: {project_name}')\n",
    "print(f'Artifacts path: {artifact_path}\\nMLRun DB path: {mlconf.dbpath}')"
   ]
  },
  {
   "cell_type": "markdown",
   "metadata": {},
   "source": [
    "### Build Docker Image"
   ]
  },
  {
   "cell_type": "code",
   "execution_count": 3,
   "metadata": {},
   "outputs": [],
   "source": [
    "# Run once to create Docker image\n",
    "# %run components/notebooks/CreateDockerImage.ipynb"
   ]
  },
  {
   "cell_type": "markdown",
   "metadata": {},
   "source": [
    "### Build Pipeline Functions"
   ]
  },
  {
   "cell_type": "markdown",
   "metadata": {},
   "source": [
    "Run the following notebooks in `components/notebooks` to populate `components/yaml`:\n",
    "- `CreateStreamsTables.ipynb`\n",
    "- `DeployFacialRecognition.ipynb`\n",
    "- `DeployImageRetrieval.ipynb`\n",
    "- `CreateAPIGateway.ipynb`\n",
    "- `CreateGrafanaDashboard.ipynb`\n",
    "\n",
    "*Note: Be sure to update Docker image in notebooks if using a different image than the one created previously.*"
   ]
  },
  {
   "cell_type": "markdown",
   "metadata": {},
   "source": [
    "### Set Pipeline Functions"
   ]
  },
  {
   "cell_type": "code",
   "execution_count": 4,
   "metadata": {},
   "outputs": [
    {
     "data": {
      "text/plain": [
       "<mlrun.runtimes.kubejob.KubejobRuntime at 0x7f7dc18fad10>"
      ]
     },
     "execution_count": 4,
     "metadata": {},
     "output_type": "execute_result"
    }
   ],
   "source": [
    "project.set_function('../components/yaml/create-streams-tables.yaml', 'create-streams-tables')\n",
    "project.set_function('../components/yaml/deploy-facial-recognition.yaml', 'deploy-facial-recognition')\n",
    "project.set_function('../components/yaml/deploy-image-retrieval.yaml', 'deploy-image-retrieval')\n",
    "project.set_function('../components/yaml/create-api-gateway.yaml', 'create-api-gateway')\n",
    "project.set_function('../components/yaml/create-grafana-dashboard.yaml', 'create-grafana-dashboard')"
   ]
  },
  {
   "cell_type": "markdown",
   "metadata": {},
   "source": [
    "### Pipeline"
   ]
  },
  {
   "cell_type": "code",
   "execution_count": 5,
   "metadata": {},
   "outputs": [
    {
     "name": "stdout",
     "output_type": "stream",
     "text": [
      "Overwriting /User/iguazioCV/project/workflow.py\n"
     ]
    }
   ],
   "source": [
    "%%writefile {path.join(project_path, 'workflow.py')}\n",
    "\n",
    "import os\n",
    "from kfp import dsl\n",
    "from mlrun import mount_v3io\n",
    "\n",
    "funcs = {}\n",
    "\n",
    "# Configure function resources and local settings\n",
    "def init_functions(functions: dict, project=None, secrets=None):\n",
    "    for f in functions.values():\n",
    "        f.apply(mount_v3io())\n",
    "\n",
    "# Create a Kubeflow Pipelines pipeline\n",
    "@dsl.pipeline(\n",
    "    name=\"Facial Recognition Demo\",\n",
    "    description=\"Real-time facial recognition using Iguazio Data Science Platform, Nuclio, and MLRun\"\n",
    ")\n",
    "def kfpipeline():\n",
    "    # Note: Using env/params to order components as everything has been defined in environment variables.\n",
    "    # \"env\" is the input for nuclio functions which output a function \"endpoint\"\n",
    "    # \"params\" is the input for jobs which output a \"run_id\"\n",
    "\n",
    "    # Create streams and tables\n",
    "    create_streams_tables = funcs['create-streams-tables'].as_step(outputs=['tagged_video_stream_url', \n",
    "                                                                            'raw_video_stream_url'])\n",
    "    \n",
    "    # Deploy facial recognition\n",
    "    facial_recognition = funcs['deploy-facial-recognition'].deploy_step(env={'RUN_ORDER' : create_streams_tables.outputs['run_id'],\n",
    "                                                                             'TAGGED_VIDEO_STREAM_URL' : create_streams_tables.outputs['tagged_video_stream_url']})\n",
    "\n",
    "    # Deploy image retrieval\n",
    "    image_retrieval = funcs['deploy-image-retrieval'].deploy_step(env={'RUN_ORDER' : facial_recognition.outputs['endpoint']})\n",
    "\n",
    "    # Create API gateway\n",
    "    api_gateway = funcs['create-api-gateway'].as_step(params={'RUN_ORDER' : image_retrieval.outputs['endpoint']})\n",
    "    \n",
    "    # Create Grafana dashboard\n",
    "    api_gateway = funcs['create-grafana-dashboard'].as_step(params={'RUN_ORDER' : api_gateway.outputs['run_id']})"
   ]
  },
  {
   "cell_type": "markdown",
   "metadata": {},
   "source": [
    "### Save pipeline"
   ]
  },
  {
   "cell_type": "code",
   "execution_count": 6,
   "metadata": {},
   "outputs": [],
   "source": [
    "# Register the workflow file as \"main\"\n",
    "project.set_workflow('main', 'workflow.py')"
   ]
  },
  {
   "cell_type": "code",
   "execution_count": 7,
   "metadata": {},
   "outputs": [],
   "source": [
    "project.save()"
   ]
  },
  {
   "cell_type": "markdown",
   "metadata": {},
   "source": [
    "### Run pipeline"
   ]
  },
  {
   "cell_type": "code",
   "execution_count": 8,
   "metadata": {},
   "outputs": [
    {
     "name": "stdout",
     "output_type": "stream",
     "text": [
      "> 2020-10-28 20:50:09,943 [info] using in-cluster config.\n"
     ]
    },
    {
     "data": {
      "text/html": [
       "Experiment link <a href=\"https://dashboard.default-tenant.app.nicks-dev-cluster.iguazio-cd2.com/pipelines/#/experiments/details/48a18f44-0b7e-488b-975f-0b6d6fad0441\" target=\"_blank\" >here</a>"
      ],
      "text/plain": [
       "<IPython.core.display.HTML object>"
      ]
     },
     "metadata": {},
     "output_type": "display_data"
    },
    {
     "data": {
      "text/html": [
       "Run link <a href=\"https://dashboard.default-tenant.app.nicks-dev-cluster.iguazio-cd2.com/pipelines/#/runs/details/e0c02073-c0f0-4a17-aab9-49b014e43f30\" target=\"_blank\" >here</a>"
      ],
      "text/plain": [
       "<IPython.core.display.HTML object>"
      ]
     },
     "metadata": {},
     "output_type": "display_data"
    },
    {
     "name": "stdout",
     "output_type": "stream",
     "text": [
      "> 2020-10-28 20:50:10,353 [info] Pipeline run id=e0c02073-c0f0-4a17-aab9-49b014e43f30, check UI or DB for progress\n"
     ]
    }
   ],
   "source": [
    "run_id = project.run(\n",
    "    'main',\n",
    "    arguments={}, \n",
    "    artifact_path=path.abspath(path.join('pipeline','{{workflow.uid}}')), \n",
    "    dirty=True)"
   ]
  },
  {
   "cell_type": "markdown",
   "metadata": {},
   "source": [
    "### Clean Up Resources"
   ]
  },
  {
   "cell_type": "code",
   "execution_count": 9,
   "metadata": {},
   "outputs": [
    {
     "name": "stdout",
     "output_type": "stream",
     "text": [
      "Deleting API Gateway 'camera-img'...\n",
      "Deleting Function 'facial-recognition-demo-latest-image-retrieve'...\n",
      "Deleting Function 'facial-recognition-demo-deploy-facial-recognition'...\n",
      "Deleting Stream 'videostream'...\n",
      "Deleting Stream 'taggedvideos'...\n",
      "Deleting Table 'camera_list'...\n",
      "Done.\n"
     ]
    }
   ],
   "source": [
    "# %run ./components/util/cleanup.ipynb"
   ]
  },
  {
   "cell_type": "code",
   "execution_count": null,
   "metadata": {},
   "outputs": [],
   "source": []
  }
 ],
 "metadata": {
  "kernelspec": {
   "display_name": "Python [conda env:root] *",
   "language": "python",
   "name": "conda-root-py"
  },
  "language_info": {
   "codemirror_mode": {
    "name": "ipython",
    "version": 3
   },
   "file_extension": ".py",
   "mimetype": "text/x-python",
   "name": "python",
   "nbconvert_exporter": "python",
   "pygments_lexer": "ipython3",
   "version": "3.7.6"
  }
 },
 "nbformat": 4,
 "nbformat_minor": 4
}
