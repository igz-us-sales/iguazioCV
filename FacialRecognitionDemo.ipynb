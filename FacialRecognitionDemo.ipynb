{
 "cells": [
  {
   "cell_type": "markdown",
   "metadata": {},
   "source": [
    "# Facial Recognition Demo"
   ]
  },
  {
   "cell_type": "markdown",
   "metadata": {},
   "source": [
    "### Install MLRun"
   ]
  },
  {
   "cell_type": "code",
   "execution_count": 5,
   "metadata": {},
   "outputs": [],
   "source": [
    "# Only needs to be run once\n",
    "# !pip install mlrun"
   ]
  },
  {
   "cell_type": "markdown",
   "metadata": {},
   "source": [
    "### Set ENV variables"
   ]
  },
  {
   "cell_type": "code",
   "execution_count": 3,
   "metadata": {},
   "outputs": [],
   "source": [
    "%run ./components/util/set_env.ipynb"
   ]
  },
  {
   "cell_type": "markdown",
   "metadata": {},
   "source": [
    "### Setup project"
   ]
  },
  {
   "cell_type": "code",
   "execution_count": 4,
   "metadata": {},
   "outputs": [
    {
     "name": "stdout",
     "output_type": "stream",
     "text": [
      "Project path: /User/igz_repos/iguazioCV/project\n",
      "Project name: facial-recognition-demo\n",
      "Artifacts path: /User/igz_repos/iguazioCV/artifacts\n",
      "MLRun DB path: http://mlrun-api:8080\n"
     ]
    }
   ],
   "source": [
    "import os\n",
    "from os import path, getenv\n",
    "import nuclio\n",
    "from mlrun import new_project, code_to_function, run_local, NewTask, mlconf, import_function, mount_v3io\n",
    "\n",
    "project_name = os.getenv(\"PROJECT\")\n",
    "project_path = path.abspath('project')\n",
    "project = new_project(name=project_name, context=project_path)\n",
    "artifact_path = path.abspath('artifacts')\n",
    "mlconf.dbpath = mlconf.dbpath or 'http://mlrun-api:8080'\n",
    "\n",
    "print(f'Project path: {project_path}\\nProject name: {project_name}')\n",
    "print(f'Artifacts path: {artifact_path}\\nMLRun DB path: {mlconf.dbpath}')"
   ]
  },
  {
   "cell_type": "markdown",
   "metadata": {},
   "source": [
    "### Build Docker Image"
   ]
  },
  {
   "cell_type": "code",
   "execution_count": 3,
   "metadata": {},
   "outputs": [],
   "source": [
    "# Run once to create Docker image\n",
    "# %run components/notebooks/CreateDockerImage.ipynb"
   ]
  },
  {
   "cell_type": "markdown",
   "metadata": {},
   "source": [
    "### Build Pipeline Functions"
   ]
  },
  {
   "cell_type": "code",
   "execution_count": 5,
   "metadata": {},
   "outputs": [
    {
     "data": {
      "text/plain": [
       "<mlrun.runtimes.kubejob.KubejobRuntime at 0x7f80bd207450>"
      ]
     },
     "execution_count": 5,
     "metadata": {},
     "output_type": "execute_result"
    }
   ],
   "source": [
    "project.set_function('../components/notebooks/CreateStreamsTables.ipynb', 'create-streams-tables', kind='job')\n",
    "project.set_function('../components/notebooks/DeployFacialRecognition.ipynb', 'deploy-facial-recognition', kind='nuclio')\n",
    "project.set_function('../components/notebooks/DeployImageRetrieval.ipynb', 'deploy-image-retrieval', kind='nuclio')\n",
    "project.set_function('../components/notebooks/CreateAPIGateway.ipynb', 'create-api-gateway', kind='job')\n",
    "project.set_function('../components/notebooks/CreateGrafanaDashboard.ipynb', 'create-grafana-dashboard', kind='job')"
   ]
  },
  {
   "cell_type": "markdown",
   "metadata": {},
   "source": [
    "### Pipeline"
   ]
  },
  {
   "cell_type": "code",
   "execution_count": 6,
   "metadata": {},
   "outputs": [
    {
     "name": "stdout",
     "output_type": "stream",
     "text": [
      "Overwriting /User/iguazioCV/project/workflow.py\n"
     ]
    }
   ],
   "source": [
    "%%writefile {path.join(project_path, 'workflow.py')}\n",
    "\n",
    "import os\n",
    "from kfp import dsl\n",
    "from mlrun import mount_v3io\n",
    "\n",
    "funcs = {}\n",
    "\n",
    "# Configure function resources and local settings\n",
    "def init_functions(functions: dict, project=None, secrets=None):\n",
    "    \n",
    "    image = f\"docker-registry.{os.getenv('IGZ_NAMESPACE_DOMAIN')}:80/{os.getenv('DOCKER_IMAGE')}\"\n",
    "    \n",
    "    for fn in functions.values():\n",
    "        \n",
    "        # Set resources for jobs\n",
    "        if fn.to_dict()[\"kind\"] == \"job\":\n",
    "            fn.spec.build.image = image\n",
    "            \n",
    "        # Set resources for nuclio functions\n",
    "        elif fn.to_dict()[\"kind\"] == \"remote\":\n",
    "            fn.with_http(workers=1)\n",
    "            fn.spec.base_spec['spec']['build']['baseImage'] = image\n",
    "            fn.spec.base_spec['spec']['loggerSinks'] = [{'level': 'info'}]\n",
    "            fn.spec.min_replicas = 1\n",
    "            fn.spec.max_replicas = 1\n",
    "        \n",
    "        # Apply environment variables\n",
    "        fn.set_env('RAW_VIDEO_STREAM', os.getenv(\"RAW_VIDEO_STREAM\"))\n",
    "        fn.set_env('TAGGED_VIDEO_STREAM', os.getenv(\"TAGGED_VIDEO_STREAM\"))\n",
    "        fn.set_env('IGZ_CONTAINER', os.getenv(\"IGZ_CONTAINER\"))\n",
    "        fn.set_env('CAMERA_LIST_TBL', os.getenv(\"CAMERA_LIST_TBL\"))\n",
    "        fn.set_env('CAMERA_ID', os.getenv(\"CAMERA_ID\"))\n",
    "        fn.set_env('SHARD_ID', os.getenv(\"SHARD_ID\"))\n",
    "        fn.set_env('CAMERA_URL', os.getenv(\"CAMERA_URL\"))\n",
    "        fn.set_env('V3IO_ACCESS_KEY', os.getenv('V3IO_ACCESS_KEY'))\n",
    "        fn.set_env('ROTATE_180', os.getenv(\"ROTATE_180\"))\n",
    "        fn.set_env('FACIAL_RECOGNITION_FUNCTION', os.getenv(\"FACIAL_RECOGNITION_FUNCTION\"))\n",
    "        fn.set_env('GET_IMAGE_FUNCTION', os.getenv(\"GET_IMAGE_FUNCTION\"))\n",
    "        fn.set_env('API_GATEWAY', os.getenv(\"API_GATEWAY\"))\n",
    "        fn.set_env('PROJECT', os.getenv(\"PROJECT\"))\n",
    "        fn.set_env('V3IO_USERNAME', os.getenv('V3IO_USERNAME'))\n",
    "        fn.set_env('IGZ_AUTH', os.getenv(\"IGZ_AUTH\"))\n",
    "        fn.set_env('IGZ_NAMESPACE_DOMAIN', os.getenv('IGZ_NAMESPACE_DOMAIN'))\n",
    "        \n",
    "        # Set default handler\n",
    "        fn.spec.default_handler = \"handler\"\n",
    "        \n",
    "        # Apply V3IO mount\n",
    "        fn.apply(mount_v3io())\n",
    "        \n",
    "    # Apply V3IO trigger\n",
    "    facial_recognition_trigger_spec={\n",
    "        'kind': 'v3ioStream',\n",
    "        'url' : \"http://v3io-webapi:8081/%s/%s@processorgrp\"% (os.getenv('IGZ_CONTAINER'), os.getenv('RAW_VIDEO_STREAM')),\n",
    "        \"password\": os.getenv('V3IO_ACCESS_KEY'),  \n",
    "        'attributes': {\"pollingIntervalMs\": 500,\n",
    "            \"seekTo\": \"earliest\",\n",
    "            \"readBatchSize\": 100,\n",
    "            \"partitions\": \"0-100\",                          \n",
    "          }\n",
    "    }\n",
    "    functions['deploy-facial-recognition'].add_trigger('image-proc', facial_recognition_trigger_spec)\n",
    "\n",
    "# Create a Kubeflow Pipelines pipeline\n",
    "@dsl.pipeline(\n",
    "    name=\"Facial Recognition Demo\",\n",
    "    description=\"Real-time facial recognition using Iguazio Data Science Platform, Nuclio, and MLRun\"\n",
    ")\n",
    "def kfpipeline():\n",
    "    # Note: Using env/params to order components as everything has been defined in environment variables.\n",
    "    # \"env\" is the input for nuclio functions which output a function \"endpoint\"\n",
    "    # \"params\" is the input for jobs which output a \"run_id\"\n",
    "    \n",
    "    # Create streams and tables\n",
    "    create_streams_tables = funcs['create-streams-tables'].as_step()\n",
    "    \n",
    "    # Deploy facial recognition\n",
    "    facial_recognition = funcs['deploy-facial-recognition'].deploy_step(env={'RUN_ORDER' : create_streams_tables.outputs['run_id']})\n",
    "\n",
    "    # Deploy image retrieval\n",
    "    image_retrieval = funcs['deploy-image-retrieval'].deploy_step(env={'RUN_ORDER' : facial_recognition.outputs['endpoint']})\n",
    "\n",
    "    # Create API gateway\n",
    "    api_gateway = funcs['create-api-gateway'].as_step(params={'RUN_ORDER' : image_retrieval.outputs['endpoint']})\n",
    "    \n",
    "    # Create Grafana dashboard\n",
    "    api_gateway = funcs['create-grafana-dashboard'].as_step(params={'RUN_ORDER' : api_gateway.outputs['run_id']})"
   ]
  },
  {
   "cell_type": "markdown",
   "metadata": {},
   "source": [
    "### Save pipeline"
   ]
  },
  {
   "cell_type": "code",
   "execution_count": 7,
   "metadata": {},
   "outputs": [],
   "source": [
    "# Register the workflow file as \"main\"\n",
    "project.set_workflow('main', 'workflow.py')"
   ]
  },
  {
   "cell_type": "code",
   "execution_count": 8,
   "metadata": {},
   "outputs": [],
   "source": [
    "project.save()"
   ]
  },
  {
   "cell_type": "markdown",
   "metadata": {},
   "source": [
    "### Run pipeline"
   ]
  },
  {
   "cell_type": "code",
   "execution_count": 9,
   "metadata": {},
   "outputs": [
    {
     "name": "stdout",
     "output_type": "stream",
     "text": [
      "> 2020-10-30 23:20:58,844 [info] using in-cluster config.\n"
     ]
    },
    {
     "data": {
      "text/html": [
       "Experiment link <a href=\"https://dashboard.default-tenant.app.nicks-dev-cluster.iguazio-cd2.com/pipelines/#/experiments/details/48a18f44-0b7e-488b-975f-0b6d6fad0441\" target=\"_blank\" >here</a>"
      ],
      "text/plain": [
       "<IPython.core.display.HTML object>"
      ]
     },
     "metadata": {},
     "output_type": "display_data"
    },
    {
     "data": {
      "text/html": [
       "Run link <a href=\"https://dashboard.default-tenant.app.nicks-dev-cluster.iguazio-cd2.com/pipelines/#/runs/details/adc2815b-ba69-429e-81b8-93ae40dfc81d\" target=\"_blank\" >here</a>"
      ],
      "text/plain": [
       "<IPython.core.display.HTML object>"
      ]
     },
     "metadata": {},
     "output_type": "display_data"
    },
    {
     "name": "stdout",
     "output_type": "stream",
     "text": [
      "> 2020-10-30 23:20:59,250 [info] Pipeline run id=adc2815b-ba69-429e-81b8-93ae40dfc81d, check UI or DB for progress\n"
     ]
    }
   ],
   "source": [
    "run_id = project.run(\n",
    "    'main',\n",
    "    arguments={}, \n",
    "    artifact_path=path.abspath(path.join('pipeline','{{workflow.uid}}')), \n",
    "    dirty=True)"
   ]
  },
  {
   "cell_type": "markdown",
   "metadata": {},
   "source": [
    "### Clean Up Resources"
   ]
  },
  {
   "cell_type": "code",
   "execution_count": 10,
   "metadata": {},
   "outputs": [
    {
     "name": "stdout",
     "output_type": "stream",
     "text": [
      "Deleting API Gateway 'camera-img'...\n",
      "Deleting Function 'facial-recognition-demo-deploy-image-retrieval'...\n",
      "Deleting Function 'facial-recognition-demo-deploy-facial-recognition'...\n",
      "Deleting Stream 'videostream'...\n",
      "Deleting Stream 'taggedvideos'...\n",
      "Deleting Table 'camera_list'...\n",
      "Done.\n"
     ]
    }
   ],
   "source": [
    "# %run ./components/util/cleanup.ipynb"
   ]
  },
  {
   "cell_type": "code",
   "execution_count": null,
   "metadata": {},
   "outputs": [],
   "source": []
  }
 ],
 "metadata": {
  "kernelspec": {
   "display_name": "Python [conda env:root] *",
   "language": "python",
   "name": "conda-root-py"
  },
  "language_info": {
   "codemirror_mode": {
    "name": "ipython",
    "version": 3
   },
   "file_extension": ".py",
   "mimetype": "text/x-python",
   "name": "python",
   "nbconvert_exporter": "python",
   "pygments_lexer": "ipython3",
   "version": "3.7.6"
  }
 },
 "nbformat": 4,
 "nbformat_minor": 4
}
