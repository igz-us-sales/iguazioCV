{
 "cells": [
  {
   "cell_type": "markdown",
   "metadata": {},
   "source": [
    "# Facial Recognition Demo"
   ]
  },
  {
   "cell_type": "markdown",
   "metadata": {},
   "source": [
    "### Install MLRun"
   ]
  },
  {
   "cell_type": "code",
   "execution_count": 1,
   "metadata": {},
   "outputs": [],
   "source": [
    "# Only needs to be run once\n",
    "# !pip install mlrun"
   ]
  },
  {
   "cell_type": "markdown",
   "metadata": {},
   "source": [
    "### Load config"
   ]
  },
  {
   "cell_type": "code",
   "execution_count": 2,
   "metadata": {},
   "outputs": [],
   "source": [
    "import yaml\n",
    "with open(\"config.yaml\") as f:\n",
    "    config = yaml.safe_load(f)"
   ]
  },
  {
   "cell_type": "markdown",
   "metadata": {},
   "source": [
    "### Setup project"
   ]
  },
  {
   "cell_type": "code",
   "execution_count": 3,
   "metadata": {},
   "outputs": [
    {
     "name": "stdout",
     "output_type": "stream",
     "text": [
      "Project path: /User/igz_repos/iguazioCV/project\n",
      "Project name: facial-recognition-demo\n",
      "Artifacts path: /User/igz_repos/iguazioCV/artifacts\n",
      "MLRun DB path: http://mlrun-api:8080\n"
     ]
    }
   ],
   "source": [
    "import os\n",
    "from os import path, getenv\n",
    "import nuclio\n",
    "from mlrun import new_project, code_to_function, run_local, NewTask, mlconf, import_function, mount_v3io\n",
    "\n",
    "project_name = config['project']['name']\n",
    "project_path = path.abspath('project')\n",
    "project = new_project(name=project_name, context=project_path)\n",
    "artifact_path = path.abspath('artifacts')\n",
    "mlconf.dbpath = mlconf.dbpath or 'http://mlrun-api:8080'\n",
    "\n",
    "print(f'Project path: {project_path}\\nProject name: {project_name}')\n",
    "print(f'Artifacts path: {artifact_path}\\nMLRun DB path: {mlconf.dbpath}')"
   ]
  },
  {
   "cell_type": "markdown",
   "metadata": {},
   "source": [
    "### Build Docker Image"
   ]
  },
  {
   "cell_type": "code",
   "execution_count": 4,
   "metadata": {},
   "outputs": [],
   "source": [
    "# Run once to create Docker image\n",
    "# %run components/util/CreateDockerImage.ipynb"
   ]
  },
  {
   "cell_type": "markdown",
   "metadata": {},
   "source": [
    "### Build Pipeline Functions"
   ]
  },
  {
   "cell_type": "code",
   "execution_count": 5,
   "metadata": {},
   "outputs": [
    {
     "data": {
      "text/plain": [
       "<mlrun.runtimes.kubejob.KubejobRuntime at 0x7f58790897d0>"
      ]
     },
     "execution_count": 5,
     "metadata": {},
     "output_type": "execute_result"
    }
   ],
   "source": [
    "project.set_function('../components/notebooks/CreateStreamsTables.ipynb', 'create-streams-tables', kind='job')\n",
    "project.set_function('../components/notebooks/DeployFacialRecognition.ipynb', 'deploy-facial-recognition', kind='nuclio')\n",
    "project.set_function('../components/notebooks/DeployImageRetrieval.ipynb', 'deploy-image-retrieval', kind='nuclio')\n",
    "project.set_function('../components/notebooks/CreateAPIGateway.ipynb', 'create-api-gateway', kind='job')\n",
    "project.set_function('../components/notebooks/CreateGrafanaDashboard.ipynb', 'create-grafana-dashboard', kind='job')"
   ]
  },
  {
   "cell_type": "markdown",
   "metadata": {},
   "source": [
    "### Package Client Script and Config"
   ]
  },
  {
   "cell_type": "code",
   "execution_count": null,
   "metadata": {},
   "outputs": [],
   "source": [
    "# TODO"
   ]
  },
  {
   "cell_type": "markdown",
   "metadata": {},
   "source": [
    "### Pipeline"
   ]
  },
  {
   "cell_type": "code",
   "execution_count": 6,
   "metadata": {},
   "outputs": [
    {
     "name": "stdout",
     "output_type": "stream",
     "text": [
      "Overwriting /User/igz_repos/iguazioCV/project/workflow.py\n"
     ]
    }
   ],
   "source": [
    "%%writefile {path.join(project_path, 'workflow.py')}\n",
    "\n",
    "import os\n",
    "from kfp import dsl\n",
    "from mlrun import mount_v3io\n",
    "import yaml\n",
    "\n",
    "with open(\"config.yaml\") as f:\n",
    "    config = yaml.safe_load(f)\n",
    "\n",
    "funcs = {}\n",
    "\n",
    "# Configure function resources and local settings\n",
    "def init_functions(functions: dict, project=None, secrets=None):\n",
    "    \n",
    "    image = f\"docker-registry.{os.getenv('IGZ_NAMESPACE_DOMAIN')}:80/{config['project']['docker_image']}\"\n",
    "    \n",
    "    for fn in functions.values():\n",
    "        \n",
    "        # Set resources for jobs\n",
    "        if fn.to_dict()[\"kind\"] == \"job\":\n",
    "            fn.spec.build.image = image\n",
    "            \n",
    "        # Set resources for nuclio functions\n",
    "        elif fn.to_dict()[\"kind\"] == \"remote\":\n",
    "            fn.with_http(workers=1)\n",
    "            fn.spec.base_spec['spec']['build']['baseImage'] = image\n",
    "            fn.spec.base_spec['spec']['loggerSinks'] = [{'level': 'info'}]\n",
    "            fn.spec.min_replicas = 1\n",
    "            fn.spec.max_replicas = 1\n",
    "        \n",
    "        # Apply environment variables\n",
    "        fn.set_env('V3IO_ACCESS_KEY', os.getenv('V3IO_ACCESS_KEY'))\n",
    "        fn.set_env('V3IO_USERNAME', os.getenv('V3IO_USERNAME'))\n",
    "        fn.set_env('IGZ_NAMESPACE_DOMAIN', os.getenv('IGZ_NAMESPACE_DOMAIN'))\n",
    "        fn.set_env('RAW_VIDEO_STREAM', config['stream']['raw_video_stream'])\n",
    "        fn.set_env('TAGGED_VIDEO_STREAM', config['stream']['tagged_video_stream'])\n",
    "        fn.set_env('IGZ_CONTAINER', config['project']['container'])\n",
    "        fn.set_env('CAMERA_LIST_TBL', config['camera']['list_table'])\n",
    "        fn.set_env('CAMERA_ID', config['camera']['id'])\n",
    "        fn.set_env('SHARD_ID', config['stream']['shard_id'])\n",
    "        fn.set_env('CAMERA_URL', config['camera']['url'])\n",
    "        fn.set_env('ROTATE_180', config['stream']['rotate_180'])\n",
    "        fn.set_env('FACIAL_RECOGNITION_FUNCTION', config['api']['facial_recognition_function'])\n",
    "        fn.set_env('GET_IMAGE_FUNCTION', config['api']['get_image_function'])\n",
    "        fn.set_env('API_GATEWAY', config['api']['gateway'])\n",
    "        fn.set_env('PROJECT', config['project']['name'])\n",
    "        fn.set_env('IGZ_AUTH', config['api']['auth'])\n",
    "        \n",
    "        # Set default handler\n",
    "        fn.spec.default_handler = \"handler\"\n",
    "        \n",
    "        # Apply V3IO mount\n",
    "        fn.apply(mount_v3io())\n",
    "        \n",
    "    # Apply V3IO trigger\n",
    "    facial_recognition_trigger_spec={\n",
    "        'kind': 'v3ioStream',\n",
    "        'url' : f\"http://v3io-webapi:8081/{config['project']['container']}/{config['stream']['raw_video_stream']}@processorgrp\",\n",
    "        \"password\": os.getenv('V3IO_ACCESS_KEY'),  \n",
    "        'attributes': {\"pollingIntervalMs\": 500,\n",
    "            \"seekTo\": \"earliest\",\n",
    "            \"readBatchSize\": 100,\n",
    "            \"partitions\": \"0-100\",                          \n",
    "          }\n",
    "    }\n",
    "    functions['deploy-facial-recognition'].add_trigger('image-proc', facial_recognition_trigger_spec)\n",
    "\n",
    "# Create a Kubeflow Pipelines pipeline\n",
    "@dsl.pipeline(\n",
    "    name=\"Facial Recognition Demo\",\n",
    "    description=\"Real-time facial recognition using Iguazio Data Science Platform, Nuclio, and MLRun\"\n",
    ")\n",
    "def kfpipeline():\n",
    "    # Note: Using env/params to order components as everything has been defined in environment variables.\n",
    "    # \"env\" is the input for nuclio functions which output a function \"endpoint\"\n",
    "    # \"params\" is the input for jobs which output a \"run_id\"\n",
    "    \n",
    "    # Create streams and tables\n",
    "    create_streams_tables = funcs['create-streams-tables'].as_step()\n",
    "    \n",
    "    # Deploy facial recognition\n",
    "    facial_recognition = funcs['deploy-facial-recognition'].deploy_step(env={'RUN_ORDER' : create_streams_tables.outputs['run_id']})\n",
    "\n",
    "    # Deploy image retrieval\n",
    "    image_retrieval = funcs['deploy-image-retrieval'].deploy_step(env={'RUN_ORDER' : facial_recognition.outputs['endpoint']})\n",
    "\n",
    "    # Create API gateway\n",
    "    api_gateway = funcs['create-api-gateway'].as_step(params={'RUN_ORDER' : image_retrieval.outputs['endpoint']})\n",
    "    \n",
    "    # Create Grafana dashboard\n",
    "    api_gateway = funcs['create-grafana-dashboard'].as_step(params={'RUN_ORDER' : api_gateway.outputs['run_id']})"
   ]
  },
  {
   "cell_type": "markdown",
   "metadata": {},
   "source": [
    "### Save pipeline"
   ]
  },
  {
   "cell_type": "code",
   "execution_count": 7,
   "metadata": {},
   "outputs": [],
   "source": [
    "# Register the workflow file as \"main\"\n",
    "project.set_workflow('main', 'workflow.py')"
   ]
  },
  {
   "cell_type": "code",
   "execution_count": 8,
   "metadata": {},
   "outputs": [],
   "source": [
    "project.save()"
   ]
  },
  {
   "cell_type": "markdown",
   "metadata": {},
   "source": [
    "### Run pipeline"
   ]
  },
  {
   "cell_type": "code",
   "execution_count": 9,
   "metadata": {},
   "outputs": [
    {
     "name": "stdout",
     "output_type": "stream",
     "text": [
      "> 2020-11-04 00:51:10,889 [info] using in-cluster config.\n"
     ]
    },
    {
     "data": {
      "text/html": [
       "Experiment link <a href=\"https://dashboard.default-tenant.app.us-sales.iguazio-cd2.com/pipelines/#/experiments/details/4ee6a027-7685-46c0-9e3e-e4a25fb454d2\" target=\"_blank\" >here</a>"
      ],
      "text/plain": [
       "<IPython.core.display.HTML object>"
      ]
     },
     "metadata": {},
     "output_type": "display_data"
    },
    {
     "data": {
      "text/html": [
       "Run link <a href=\"https://dashboard.default-tenant.app.us-sales.iguazio-cd2.com/pipelines/#/runs/details/a92adc00-7c18-461c-9366-34e6107e92c2\" target=\"_blank\" >here</a>"
      ],
      "text/plain": [
       "<IPython.core.display.HTML object>"
      ]
     },
     "metadata": {},
     "output_type": "display_data"
    },
    {
     "name": "stdout",
     "output_type": "stream",
     "text": [
      "> 2020-11-04 00:51:11,420 [info] Pipeline run id=a92adc00-7c18-461c-9366-34e6107e92c2, check UI or DB for progress\n"
     ]
    }
   ],
   "source": [
    "run_id = project.run(\n",
    "    'main',\n",
    "    arguments={}, \n",
    "    artifact_path=path.abspath(path.join('pipeline','{{workflow.uid}}')), \n",
    "    dirty=True)"
   ]
  },
  {
   "cell_type": "markdown",
   "metadata": {},
   "source": [
    "### Clean Up Resources"
   ]
  },
  {
   "cell_type": "code",
   "execution_count": 10,
   "metadata": {},
   "outputs": [
    {
     "name": "stdout",
     "output_type": "stream",
     "text": [
      "Deleting API Gateway 'camera-img'...\n",
      "Deleting Function 'facial-recognition-demo-deploy-image-retrieval'...\n",
      "Deleting Function 'facial-recognition-demo-deploy-facial-recognition'...\n",
      "Deleting Stream 'videostream'...\n",
      "Deleting Stream 'taggedvideos'...\n",
      "Deleting Table 'camera_list'...\n",
      "Done.\n"
     ]
    }
   ],
   "source": [
    "# %run ./components/util/CleanupResources.ipynb"
   ]
  },
  {
   "cell_type": "code",
   "execution_count": null,
   "metadata": {},
   "outputs": [],
   "source": []
  }
 ],
 "metadata": {
  "kernelspec": {
   "display_name": "Python [conda env:root] *",
   "language": "python",
   "name": "conda-root-py"
  },
  "language_info": {
   "codemirror_mode": {
    "name": "ipython",
    "version": 3
   },
   "file_extension": ".py",
   "mimetype": "text/x-python",
   "name": "python",
   "nbconvert_exporter": "python",
   "pygments_lexer": "ipython3",
   "version": "3.7.6"
  }
 },
 "nbformat": 4,
 "nbformat_minor": 4
}
