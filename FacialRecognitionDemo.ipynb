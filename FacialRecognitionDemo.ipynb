{
 "cells": [
  {
   "cell_type": "markdown",
   "metadata": {},
   "source": [
    "# Facial Recognition Demo"
   ]
  },
  {
   "cell_type": "markdown",
   "metadata": {},
   "source": [
    "### Set ENV variables"
   ]
  },
  {
   "cell_type": "code",
   "execution_count": 1,
   "metadata": {},
   "outputs": [],
   "source": [
    "%run set_env.ipynb"
   ]
  },
  {
   "cell_type": "markdown",
   "metadata": {},
   "source": [
    "### Setup project"
   ]
  },
  {
   "cell_type": "code",
   "execution_count": 2,
   "metadata": {},
   "outputs": [
    {
     "name": "stdout",
     "output_type": "stream",
     "text": [
      "Project path: /User/iguazioCV/project\n",
      "Project name: facial-recognition-demo\n",
      "Artifacts path: /User/iguazioCV/artifacts\n",
      "MLRun DB path: http://mlrun-api:8080\n"
     ]
    }
   ],
   "source": [
    "import os\n",
    "from os import path, getenv\n",
    "import nuclio\n",
    "from mlrun import new_project, run_local, NewTask, mlconf, import_function, mount_v3io\n",
    "\n",
    "project_name = os.getenv(\"PROJECT\")\n",
    "project_path = path.abspath('project')\n",
    "project = new_project(name=project_name, context=project_path)\n",
    "artifact_path = path.abspath('artifacts')\n",
    "mlconf.dbpath = mlconf.dbpath or 'http://mlrun-api:8080'\n",
    "\n",
    "print(f'Project path: {project_path}\\nProject name: {project_name}')\n",
    "print(f'Artifacts path: {artifact_path}\\nMLRun DB path: {mlconf.dbpath}')"
   ]
  },
  {
   "cell_type": "markdown",
   "metadata": {},
   "source": [
    "### Build Docker Image"
   ]
  },
  {
   "cell_type": "code",
   "execution_count": 3,
   "metadata": {},
   "outputs": [],
   "source": [
    "# %run components/notebooks/CreateDockerImage.ipynb"
   ]
  },
  {
   "cell_type": "markdown",
   "metadata": {},
   "source": [
    "### Build Pipeline Functions"
   ]
  },
  {
   "cell_type": "code",
   "execution_count": 4,
   "metadata": {},
   "outputs": [
    {
     "name": "stdout",
     "output_type": "stream",
     "text": [
      "> 2020-10-27 21:15:29,945 [info] function spec saved to path: ../components/yaml/create-streams-tables.yaml\n",
      "> 2020-10-27 21:15:31,539 [info] function spec saved to path: ../components/yaml/deploy-facial-recognition.yaml\n"
     ]
    }
   ],
   "source": [
    "%run components/notebooks/CreateStreamsTables.ipynb\n",
    "%run components/notebooks/DeployFacialRecognition.ipynb"
   ]
  },
  {
   "cell_type": "markdown",
   "metadata": {},
   "source": [
    "### Set Pipeline Functions"
   ]
  },
  {
   "cell_type": "code",
   "execution_count": 5,
   "metadata": {},
   "outputs": [
    {
     "data": {
      "text/plain": [
       "<mlrun.runtimes.function.RemoteRuntime at 0x7f91e2a0d350>"
      ]
     },
     "execution_count": 5,
     "metadata": {},
     "output_type": "execute_result"
    }
   ],
   "source": [
    "project.set_function('../components/yaml/create-streams-tables.yaml', 'create-streams-tables')\n",
    "project.set_function('../components/yaml/deploy-facial-recognition.yaml', 'deploy-facial-recognition')"
   ]
  },
  {
   "cell_type": "code",
   "execution_count": 6,
   "metadata": {},
   "outputs": [
    {
     "data": {
      "text/plain": [
       "[{'url': '../components/yaml/create-streams-tables.yaml',\n",
       "  'name': 'create-streams-tables'},\n",
       " {'url': '../components/yaml/deploy-facial-recognition.yaml',\n",
       "  'name': 'deploy-facial-recognition'}]"
      ]
     },
     "execution_count": 6,
     "metadata": {},
     "output_type": "execute_result"
    }
   ],
   "source": [
    "project.functions"
   ]
  },
  {
   "cell_type": "code",
   "execution_count": 7,
   "metadata": {},
   "outputs": [
    {
     "name": "stdout",
     "output_type": "stream",
     "text": [
      "create-streams-tables.yaml  deploy-facial-recognition.yaml\n"
     ]
    }
   ],
   "source": [
    "!ls project/../components/yaml"
   ]
  },
  {
   "cell_type": "markdown",
   "metadata": {},
   "source": [
    "### Pipeline"
   ]
  },
  {
   "cell_type": "code",
   "execution_count": 8,
   "metadata": {},
   "outputs": [
    {
     "name": "stdout",
     "output_type": "stream",
     "text": [
      "Overwriting /User/iguazioCV/project/workflow.py\n"
     ]
    }
   ],
   "source": [
    "%%writefile {path.join(project_path, 'workflow.py')}\n",
    "\n",
    "import os\n",
    "from kfp import dsl\n",
    "from mlrun import mount_v3io\n",
    "\n",
    "funcs = {}\n",
    "\n",
    "# Configure function resources and local settings\n",
    "def init_functions(functions: dict, project=None, secrets=None):\n",
    "    for f in functions.values():\n",
    "        f.apply(mount_v3io())\n",
    "\n",
    "# Create a Kubeflow Pipelines pipeline\n",
    "@dsl.pipeline(\n",
    "    name=\"Facial Recognition Demo\",\n",
    "    description=\"Real-time facial recognition using Iguazio Data Science Platform, Nuclio, and MLRun\"\n",
    ")\n",
    "def kfpipeline():\n",
    "    \n",
    "    # Custom docker image with cv2 and grafwiz\n",
    "#     image = f\"docker-registry.{os.getenv('IGZ_NAMESPACE_DOMAIN')}:80/{os.getenv('DOCKER_IMAGE')}\"\n",
    "\n",
    "    # Create streams and tables\n",
    "    setup = funcs['create-streams-tables'].as_step(outputs=['raw_video_stream_url', 'tagged_video_stream_url'])\n",
    "    \n",
    "    # Deploy facial recognition\n",
    "    # Note: image specified in function yaml due to nuclio syntax differences\n",
    "    deploy = funcs['deploy-facial-recognition'].deploy_step(env={'TAGGED_VIDEO_STREAM_URL' : setup.outputs['tagged_video_stream_url']})\n",
    "\n",
    "    \n",
    "#     # Create data bunches\n",
    "#     bunches = funcs['create-data-bunches'].as_step(\n",
    "#         name=\"create-data-bunches\",\n",
    "#         handler='create_data_bunches',\n",
    "#         inputs={'data_path': ingest.outputs['data'], 'split' : split},\n",
    "#         outputs=['data_lm', 'data_clas'],\n",
    "#         image=image)\n",
    "    \n",
    "#     # Language model Hyperparameters\n",
    "#     hyperparams = {\"bs\" : hyper_lm_bs,\n",
    "#                    \"drop_mult\" : hyper_lm_drop_mult}\n",
    "    \n",
    "#     params = {\"epochs\" : hyper_lm_epochs,\n",
    "#               \"num_samples\" : data_size,\n",
    "#               \"data_lm_path\" : bunches.outputs['data_lm']}\n",
    "    \n",
    "#     # Language model Hyperparameter tuning\n",
    "#     hyper_tune_lm = funcs['hyper-lm'].as_step(\n",
    "#         name=\"hyper-lm\",\n",
    "#         handler='train_lm_model',\n",
    "#         params=params,\n",
    "#         hyperparams=hyperparams,\n",
    "#         selector='max.accuracy',\n",
    "#         outputs=['best_params'],\n",
    "#         image=image)\n",
    "    \n",
    "#     # Language model training\n",
    "#     train_lm = funcs['train-lm'].as_step(\n",
    "#         name=\"train-lm\",\n",
    "#         handler='train_lm',\n",
    "#         inputs={'train_lm_epochs': train_lm_epochs,\n",
    "#                 'data_lm_path' : bunches.outputs['data_lm'],\n",
    "#                 'num_samples' : data_size,\n",
    "#                 'hyper_lm_best_params_path' : hyper_tune_lm.outputs['best_params']},\n",
    "#         outputs=['train_lm_model', 'train_lm_model_enc', 'train_lm_accuracy'],\n",
    "#         image=image)\n",
    "    \n",
    "#     # Classification model Hyperparameters\n",
    "#     hyperparams = {\"bs\" : hyper_clas_bs,\n",
    "#                    \"thresh\" : hyper_clas_thresh,\n",
    "#                    \"drop_mult\" : hyper_clas_drop_mult}\n",
    "    \n",
    "#     params = {\"epochs\" : hyper_clas_epochs,\n",
    "#               \"num_samples\" : data_size,\n",
    "#               \"encodings\" : train_lm.outputs['train_lm_model_enc'],\n",
    "#               \"data_clas_path\" : bunches.outputs['data_clas']}\n",
    "    \n",
    "#     # Classification model Hyperparameter tuning\n",
    "#     hyper_tune_clas = funcs['hyper-clas'].as_step(\n",
    "#         name=\"hyper-clas\",\n",
    "#         handler='train_clas_model',\n",
    "#         params=params,\n",
    "#         hyperparams=hyperparams,\n",
    "#         selector='max.fbeta',\n",
    "#         outputs=['best_params'],\n",
    "#         image=image)\n",
    "    \n",
    "#     # Classification model training\n",
    "#     train_clas = funcs['train-clas'].as_step(\n",
    "#         name=\"train-clas\",\n",
    "#         handler='train_clas',\n",
    "#         inputs={'train_clas_epochs': train_clas_epochs,\n",
    "#                 'data_clas_path' : bunches.outputs['data_clas'],\n",
    "#                 'num_samples' : data_size,\n",
    "#                 'encodings' : train_lm.outputs['train_lm_model_enc'],\n",
    "#                 'hyper_clas_best_params_path' : hyper_tune_clas.outputs['best_params']},\n",
    "#         outputs=['train_clas_model', 'train_clas_fbeta'],\n",
    "#         image=image)\n",
    "\n",
    "#     # Serve model\n",
    "#     deploy = funcs['model-server'].deploy_step(env={'DATA_CLAS_PATH' : bunches.outputs['data_clas'],\n",
    "#                                                    'MODEL_PATH' : train_clas.outputs['train_clas_model'],\n",
    "#                                                    f'SERVING_MODEL_{model_endpoint_name}': train_clas.outputs['train_clas_model'],\n",
    "#                                                    'NUM_PREDS' : num_preds})\n",
    "\n",
    "#     # Model serving tester\n",
    "#     tester = funcs['model-server-tester'].as_step(\n",
    "#         name='model-tester',\n",
    "#         inputs={'model_endpoint': deploy.outputs['endpoint'],\n",
    "#                 'model_name' : model_endpoint_name,\n",
    "#                 'data_size' : data_size,\n",
    "#                 'data_path' : ingest.outputs['data'],\n",
    "#                 'num_tests' : num_tests})"
   ]
  },
  {
   "cell_type": "markdown",
   "metadata": {},
   "source": [
    "### Save pipeline"
   ]
  },
  {
   "cell_type": "code",
   "execution_count": 9,
   "metadata": {},
   "outputs": [],
   "source": [
    "# Register the workflow file as \"main\"\n",
    "project.set_workflow('main', 'workflow.py')"
   ]
  },
  {
   "cell_type": "code",
   "execution_count": 10,
   "metadata": {},
   "outputs": [],
   "source": [
    "project.save()"
   ]
  },
  {
   "cell_type": "markdown",
   "metadata": {},
   "source": [
    "### Run pipeline"
   ]
  },
  {
   "cell_type": "code",
   "execution_count": 11,
   "metadata": {},
   "outputs": [
    {
     "name": "stdout",
     "output_type": "stream",
     "text": [
      "> 2020-10-27 21:15:47,960 [info] using in-cluster config.\n"
     ]
    },
    {
     "data": {
      "text/html": [
       "Experiment link <a href=\"https://dashboard.default-tenant.app.nicks-dev-cluster.iguazio-cd2.com/pipelines/#/experiments/details/48a18f44-0b7e-488b-975f-0b6d6fad0441\" target=\"_blank\" >here</a>"
      ],
      "text/plain": [
       "<IPython.core.display.HTML object>"
      ]
     },
     "metadata": {},
     "output_type": "display_data"
    },
    {
     "data": {
      "text/html": [
       "Run link <a href=\"https://dashboard.default-tenant.app.nicks-dev-cluster.iguazio-cd2.com/pipelines/#/runs/details/16007809-d241-44ad-999c-59ee01d8deac\" target=\"_blank\" >here</a>"
      ],
      "text/plain": [
       "<IPython.core.display.HTML object>"
      ]
     },
     "metadata": {},
     "output_type": "display_data"
    },
    {
     "name": "stdout",
     "output_type": "stream",
     "text": [
      "> 2020-10-27 21:15:48,216 [info] Pipeline run id=16007809-d241-44ad-999c-59ee01d8deac, check UI or DB for progress\n"
     ]
    }
   ],
   "source": [
    "run_id = project.run(\n",
    "    'main',\n",
    "    arguments={}, \n",
    "    artifact_path=path.abspath(path.join('pipeline','{{workflow.uid}}')), \n",
    "    dirty=True)"
   ]
  },
  {
   "cell_type": "code",
   "execution_count": 14,
   "metadata": {},
   "outputs": [
    {
     "data": {
      "text/html": [
       "<style>\n",
       ".dictlist {\n",
       "  background-color: #b3edff;\n",
       "  text-align: center;\n",
       "  margin: 4px;\n",
       "  border-radius: 3px; padding: 0px 3px 1px 3px; display: inline-block;}\n",
       ".artifact {\n",
       "  cursor: pointer;\n",
       "  background-color: #ffe6cc;\n",
       "  text-align: left;\n",
       "  margin: 4px; border-radius: 3px; padding: 0px 3px 1px 3px; display: inline-block;\n",
       "}\n",
       "div.block.hidden {\n",
       "  display: none;\n",
       "}\n",
       ".clickable {\n",
       "  cursor: pointer;\n",
       "}\n",
       ".ellipsis {\n",
       "  display: inline-block;\n",
       "  max-width: 60px;\n",
       "  white-space: nowrap;\n",
       "  overflow: hidden;\n",
       "  text-overflow: ellipsis;\n",
       "}\n",
       ".master-wrapper {\n",
       "  display: flex;\n",
       "  flex-flow: row nowrap;\n",
       "  justify-content: flex-start;\n",
       "  align-items: stretch;\n",
       "}\n",
       ".master-tbl {\n",
       "  flex: 3\n",
       "}\n",
       ".master-wrapper > div {\n",
       "  margin: 4px;\n",
       "  padding: 10px;\n",
       "}\n",
       "iframe.fileview {\n",
       "  border: 0 none;\n",
       "  height: 100%;\n",
       "  width: 100%;\n",
       "  white-space: pre-wrap;\n",
       "}\n",
       ".pane-header-title {\n",
       "  width: 80%;\n",
       "  font-weight: 500;\n",
       "}\n",
       ".pane-header {\n",
       "  line-height: 1;\n",
       "  background-color: #ffe6cc;\n",
       "  padding: 3px;\n",
       "}\n",
       ".pane-header .close {\n",
       "  font-size: 20px;\n",
       "  font-weight: 700;\n",
       "  float: right;\n",
       "  margin-top: -5px;\n",
       "}\n",
       ".master-wrapper .right-pane {\n",
       "  border: 1px inset silver;\n",
       "  width: 40%;\n",
       "  min-height: 300px;\n",
       "  flex: 3\n",
       "  min-width: 500px;\n",
       "}\n",
       ".master-wrapper * {\n",
       "  box-sizing: border-box;\n",
       "}\n",
       "</style><script>\n",
       "function copyToClipboard(fld) {\n",
       "    if (document.queryCommandSupported && document.queryCommandSupported('copy')) {\n",
       "        var textarea = document.createElement('textarea');\n",
       "        textarea.textContent = fld.innerHTML;\n",
       "        textarea.style.position = 'fixed';\n",
       "        document.body.appendChild(textarea);\n",
       "        textarea.select();\n",
       "\n",
       "        try {\n",
       "            return document.execCommand('copy'); // Security exception may be thrown by some browsers.\n",
       "        } catch (ex) {\n",
       "\n",
       "        } finally {\n",
       "            document.body.removeChild(textarea);\n",
       "        }\n",
       "    }\n",
       "}\n",
       "function expandPanel(el) {\n",
       "  const panelName = \"#\" + el.getAttribute('paneName');\n",
       "  console.log(el.title);\n",
       "\n",
       "  document.querySelector(panelName + \"-title\").innerHTML = el.title\n",
       "  iframe = document.querySelector(panelName + \"-body\");\n",
       "\n",
       "  const tblcss = `<style> body { font-family: Arial, Helvetica, sans-serif;}\n",
       "    #csv { margin-bottom: 15px; }\n",
       "    #csv table { border-collapse: collapse;}\n",
       "    #csv table td { padding: 4px 8px; border: 1px solid silver;} </style>`;\n",
       "\n",
       "  function csvToHtmlTable(str) {\n",
       "    return '<div id=\"csv\"><table><tr><td>' +  str.replace(/[\\n\\r]+$/g, '').replace(/[\\n\\r]+/g, '</td></tr><tr><td>')\n",
       "      .replace(/,/g, '</td><td>') + '</td></tr></table></div>';\n",
       "  }\n",
       "\n",
       "  function reqListener () {\n",
       "    if (el.title.endsWith(\".csv\")) {\n",
       "      iframe.setAttribute(\"srcdoc\", tblcss + csvToHtmlTable(this.responseText));\n",
       "    } else {\n",
       "      iframe.setAttribute(\"srcdoc\", this.responseText);\n",
       "    }\n",
       "    console.log(this.responseText);\n",
       "  }\n",
       "\n",
       "  const oReq = new XMLHttpRequest();\n",
       "  oReq.addEventListener(\"load\", reqListener);\n",
       "  oReq.open(\"GET\", el.title);\n",
       "  oReq.send();\n",
       "\n",
       "\n",
       "  //iframe.src = el.title;\n",
       "  const resultPane = document.querySelector(panelName + \"-pane\");\n",
       "  if (resultPane.classList.contains(\"hidden\")) {\n",
       "    resultPane.classList.remove(\"hidden\");\n",
       "  }\n",
       "}\n",
       "function closePanel(el) {\n",
       "  const panelName = \"#\" + el.getAttribute('paneName')\n",
       "  const resultPane = document.querySelector(panelName + \"-pane\");\n",
       "  if (!resultPane.classList.contains(\"hidden\")) {\n",
       "    resultPane.classList.add(\"hidden\");\n",
       "  }\n",
       "}\n",
       "\n",
       "</script>\n",
       "<div class=\"master-wrapper\">\n",
       "  <div class=\"block master-tbl\"><div>\n",
       "<style scoped>\n",
       "    .dataframe tbody tr th:only-of-type {\n",
       "        vertical-align: middle;\n",
       "    }\n",
       "\n",
       "    .dataframe tbody tr th {\n",
       "        vertical-align: top;\n",
       "    }\n",
       "\n",
       "    .dataframe thead th {\n",
       "        text-align: right;\n",
       "    }\n",
       "</style>\n",
       "<table border=\"1\" class=\"dataframe\">\n",
       "  <thead>\n",
       "    <tr style=\"text-align: right;\">\n",
       "      <th>project</th>\n",
       "      <th>uid</th>\n",
       "      <th>iter</th>\n",
       "      <th>start</th>\n",
       "      <th>state</th>\n",
       "      <th>name</th>\n",
       "      <th>labels</th>\n",
       "      <th>inputs</th>\n",
       "      <th>parameters</th>\n",
       "      <th>results</th>\n",
       "      <th>artifacts</th>\n",
       "    </tr>\n",
       "  </thead>\n",
       "  <tbody>\n",
       "  </tbody>\n",
       "</table>\n",
       "</div></div>\n",
       "  <div id=\"resultc3728bd5-pane\" class=\"right-pane block hidden\">\n",
       "    <div class=\"pane-header\">\n",
       "      <span id=\"resultc3728bd5-title\" class=\"pane-header-title\">Title</span>\n",
       "      <span onclick=\"closePanel(this)\" paneName=\"resultc3728bd5\" class=\"close clickable\">&times;</span>\n",
       "    </div>\n",
       "    <iframe class=\"fileview\" id=\"resultc3728bd5-body\"></iframe>\n",
       "  </div>\n",
       "</div>\n"
      ],
      "text/plain": [
       "<IPython.core.display.HTML object>"
      ]
     },
     "metadata": {},
     "output_type": "display_data"
    }
   ],
   "source": [
    "from mlrun import get_run_db\n",
    "db = get_run_db().connect()\n",
    "db.list_runs(project=project.name, labels=f'workflow={run_id}').show()"
   ]
  },
  {
   "cell_type": "code",
   "execution_count": null,
   "metadata": {},
   "outputs": [],
   "source": []
  }
 ],
 "metadata": {
  "kernelspec": {
   "display_name": "Python 3",
   "language": "python",
   "name": "python3"
  },
  "language_info": {
   "codemirror_mode": {
    "name": "ipython",
    "version": 3
   },
   "file_extension": ".py",
   "mimetype": "text/x-python",
   "name": "python",
   "nbconvert_exporter": "python",
   "pygments_lexer": "ipython3",
   "version": "3.7.6"
  }
 },
 "nbformat": 4,
 "nbformat_minor": 4
}
