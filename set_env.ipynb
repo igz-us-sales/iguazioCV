{
 "cells": [
  {
   "cell_type": "code",
   "execution_count": 4,
   "metadata": {},
   "outputs": [],
   "source": [
    "import os"
   ]
  },
  {
   "cell_type": "code",
   "execution_count": 5,
   "metadata": {},
   "outputs": [],
   "source": [
    "# Project data\n",
    "PROJECT = 'facial-recognition-demo'\n",
    "\n",
    "# Data container\n",
    "IGZ_CONTAINER = 'bigdata'\n",
    "\n",
    "# Streams\n",
    "RAW_VIDEO_STREAM = f'videostream'\n",
    "TAGGED_VIDEO_STREAM = f'taggedvideos'\n",
    "\n",
    "# Camera table\n",
    "CAMERA_LIST_TBL = f'camera_list'\n",
    "SHARD_ID = \"0\"\n",
    "CAMERA_ID = \"0\"\n",
    "CAMERA_URL = \"http://192.168.0.103:8080\"\n",
    "\n",
    "# Get image API\n",
    "API_GATEWAY = 'camera-img'\n",
    "GET_IMAGE_FUNCTION = 'latest-image-retrieve'\n",
    "IGZ_AUTH = 'IL!keD@t@123'\n",
    "\n",
    "# Fix for VLC broadcasting stream rotated 180 degrees\n",
    "ROTATE_180='True'\n",
    "\n",
    "# Docker image\n",
    "DOCKER_IMAGE = f\"{PROJECT}-image\""
   ]
  },
  {
   "cell_type": "code",
   "execution_count": 6,
   "metadata": {},
   "outputs": [],
   "source": [
    "os.environ[\"PROJECT\"] = PROJECT\n",
    "\n",
    "os.environ['IGZ_CONTAINER'] = IGZ_CONTAINER\n",
    "\n",
    "os.environ['RAW_VIDEO_STREAM'] = RAW_VIDEO_STREAM\n",
    "os.environ['TAGGED_VIDEO_STREAM'] = TAGGED_VIDEO_STREAM\n",
    "\n",
    "os.environ['CAMERA_LIST_TBL'] = CAMERA_LIST_TBL\n",
    "os.environ[\"SHARD_ID\"] = SHARD_ID\n",
    "os.environ[\"CAMERA_ID\"] = CAMERA_ID\n",
    "os.environ['CAMERA_URL'] = CAMERA_URL\n",
    "\n",
    "os.environ['API_GATEWAY'] = API_GATEWAY\n",
    "os.environ[\"GET_IMAGE_FUNCTION\"] = GET_IMAGE_FUNCTION\n",
    "os.environ[\"IGZ_AUTH\"] = IGZ_AUTH\n",
    "\n",
    "os.environ[\"ROTATE_180\"] = ROTATE_180\n",
    "\n",
    "os.environ[\"DOCKER_IMAGE\"] = DOCKER_IMAGE"
   ]
  },
  {
   "cell_type": "code",
   "execution_count": null,
   "metadata": {},
   "outputs": [],
   "source": []
  }
 ],
 "metadata": {
  "kernelspec": {
   "display_name": "Python 3",
   "language": "python",
   "name": "python3"
  },
  "language_info": {
   "codemirror_mode": {
    "name": "ipython",
    "version": 3
   },
   "file_extension": ".py",
   "mimetype": "text/x-python",
   "name": "python",
   "nbconvert_exporter": "python",
   "pygments_lexer": "ipython3",
   "version": "3.7.6"
  }
 },
 "nbformat": 4,
 "nbformat_minor": 4
}
