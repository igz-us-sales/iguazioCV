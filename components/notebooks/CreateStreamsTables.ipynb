{
 "cells": [
  {
   "cell_type": "markdown",
   "metadata": {},
   "source": [
    "### Create streams and tables"
   ]
  },
  {
   "cell_type": "code",
   "execution_count": 38,
   "metadata": {},
   "outputs": [],
   "source": [
    "import os\n",
    "import v3io_frames as v3f\n",
    "from v3io import dataplane\n",
    "\n",
    "def handler(context, event):\n",
    "    # Create streams\n",
    "    frames_client = v3f.Client(\"framesd:8081\", container=\"bigdata\")\n",
    "    frames_client.create(\"stream\",\n",
    "                         table=os.getenv(\"RAW_VIDEO_STREAM\"),\n",
    "                         shards=100,\n",
    "                         retention_hours=24)\n",
    "    context.log_result('raw_video_stream_url', \"http://v3io-webapi:8081/%s/%s/\"% (os.getenv('IGZ_CONTAINER'),os.getenv('RAW_VIDEO_STREAM')))\n",
    "     \n",
    "    frames_client.create(\"stream\",\n",
    "                         table=os.getenv(\"TAGGED_VIDEO_STREAM\"),\n",
    "                         shards=100,\n",
    "                         retention_hours=24)\n",
    "    context.log_result('tagged_video_stream_url', \"http://v3io-webapi:8081/%s/%s/\"% (os.getenv('IGZ_CONTAINER'),os.getenv('TAGGED_VIDEO_STREAM')))\n",
    "\n",
    "    # Create camera list table\n",
    "    v3io_client = dataplane.Client(max_connections=1)\n",
    "    v3io_client.create_schema(container=os.getenv(\"IGZ_CONTAINER\"),\n",
    "                              path=os.getenv(\"CAMERA_LIST_TBL\"),\n",
    "                              key='cameraID',\n",
    "                              fields=[\n",
    "                                  {'name': 'cameraID', 'type': 'string', 'nullable': False},\n",
    "                                  {'name': 'shard', 'type': 'long', 'nullable': False},\n",
    "                                  {'name': 'url', 'type': 'string', 'nullable': False},\n",
    "                                  {'name': 'active', 'type': 'boolean', 'nullable': False},\n",
    "                                  {'name': 'feed_method', 'type': 'string', 'nullable': False},\n",
    "                                  {'name': 'users', 'type': 'string', 'nullable': True},\n",
    "                                  {'name': 'password', 'type': 'string', 'nullable': True},\n",
    "                              ])\n",
    "    \n",
    "    # Add camera to table\n",
    "    v3io_client.put_item(container=os.getenv(\"IGZ_CONTAINER\"),\n",
    "                         path=os.path.join(os.getenv(\"CAMERA_LIST_TBL\"), os.getenv(\"CAMERA_ID\")),\n",
    "                         attributes={'cameraID': os.getenv(\"CAMERA_ID\"),\n",
    "                                     'shard': int(os.getenv(\"SHARD_ID\")),\n",
    "                                     'url': os.getenv(\"CAMERA_URL\"),\n",
    "                                     'feed_method': \"push\",\n",
    "                                     'active': True})"
   ]
  }
 ],
 "metadata": {
  "kernelspec": {
   "display_name": "Python [conda env:root] *",
   "language": "python",
   "name": "conda-root-py"
  },
  "language_info": {
   "codemirror_mode": {
    "name": "ipython",
    "version": 3
   },
   "file_extension": ".py",
   "mimetype": "text/x-python",
   "name": "python",
   "nbconvert_exporter": "python",
   "pygments_lexer": "ipython3",
   "version": "3.7.6"
  }
 },
 "nbformat": 4,
 "nbformat_minor": 4
}
