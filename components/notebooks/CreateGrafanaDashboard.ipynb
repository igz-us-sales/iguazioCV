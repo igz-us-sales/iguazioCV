{
 "cells": [
  {
   "cell_type": "markdown",
   "metadata": {},
   "source": [
    "### Create Grafana Dashboard"
   ]
  },
  {
   "cell_type": "code",
   "execution_count": 1,
   "metadata": {},
   "outputs": [],
   "source": [
    "import nuclio\n",
    "import os"
   ]
  },
  {
   "cell_type": "code",
   "execution_count": 2,
   "metadata": {},
   "outputs": [],
   "source": [
    "%run ../../set_env.ipynb"
   ]
  },
  {
   "cell_type": "code",
   "execution_count": 3,
   "metadata": {},
   "outputs": [],
   "source": [
    "# nuclio: start-code"
   ]
  },
  {
   "cell_type": "code",
   "execution_count": 4,
   "metadata": {},
   "outputs": [],
   "source": [
    "from grafwiz import *\n",
    "import os\n",
    "import v3io_frames as v3f"
   ]
  },
  {
   "cell_type": "code",
   "execution_count": 5,
   "metadata": {},
   "outputs": [],
   "source": [
    "def handler(context, event):\n",
    "    \n",
    "    raw_stream_url = f\"https://{os.getenv('API_GATEWAY')}-{os.getenv('PROJECT')}.{os.getenv('IGZ_NAMESPACE_DOMAIN')}/?shardId={os.getenv('shardId')}&container={os.getenv('IGZ_CONTAINER')}&stream={os.getenv('RAW_VIDEO_STREAM')}\"\n",
    "    tagged_stream_url = f\"https://{os.getenv('API_GATEWAY')}-{os.getenv('PROJECT')}.{os.getenv('IGZ_NAMESPACE_DOMAIN')}/?shardId={os.getenv('shardId')}&container={os.getenv('IGZ_CONTAINER')}&stream={os.getenv('TAGGED_VIDEO_STREAM')}\"\n",
    "    \n",
    "    params_js = \"\"\"{\n",
    "         from:ctrl.range.from.format('x'),  // x is unix ms timestamp\n",
    "         to:ctrl.range.to.format('x'), \n",
    "         height:ctrl.height,\n",
    "         now:Date.now(),\n",
    "         interval: ctrl.template('$__interval'),\n",
    "         sample: 'Not escaped: $__interval',\n",
    "         since:ctrl.lastRequestTime\n",
    "        }\"\"\"\n",
    "    \n",
    "    dash = Dashboard(\"Stream Viewer Test\", start='now', dataSource='iguazio', refresh='1s')\n",
    "    \n",
    "    raw_stream = Ajax(title='Raw Stream',\n",
    "                      url=raw_stream_url,\n",
    "                      method=\"iframe\",\n",
    "                      params_js=params_js)\n",
    "    \n",
    "    tagged_stream = Ajax(title='Tagged Stream',\n",
    "                      url=tagged_stream_url,\n",
    "                      method=\"iframe\",\n",
    "                      params_js=params_js)\n",
    "    \n",
    "    dash.row([raw_stream, tagged_stream])\n",
    "    \n",
    "    return dash.deploy('http://grafana')"
   ]
  },
  {
   "cell_type": "code",
   "execution_count": 6,
   "metadata": {},
   "outputs": [],
   "source": [
    "# nuclio: end-code"
   ]
  },
  {
   "cell_type": "code",
   "execution_count": 7,
   "metadata": {},
   "outputs": [],
   "source": [
    "from mlrun import code_to_function, mount_v3io, mlconf\n",
    "import os\n",
    "\n",
    "fn = code_to_function('create-grafana-dashboard', kind='job', handler=\"handler\", project=os.getenv(\"PROJECT\"))"
   ]
  },
  {
   "cell_type": "code",
   "execution_count": 8,
   "metadata": {},
   "outputs": [
    {
     "name": "stdout",
     "output_type": "stream",
     "text": [
      "> 2020-10-27 23:11:39,450 [info] function spec saved to path: ../yaml/create-grafana-dashboard.yaml\n"
     ]
    },
    {
     "data": {
      "text/plain": [
       "<mlrun.runtimes.kubejob.KubejobRuntime at 0x7f3123cd5d50>"
      ]
     },
     "execution_count": 8,
     "metadata": {},
     "output_type": "execute_result"
    }
   ],
   "source": [
    "fn.spec.build.image = f\"docker-registry.{os.getenv('IGZ_NAMESPACE_DOMAIN')}:80/{os.getenv('DOCKER_IMAGE')}\"\n",
    "fn.spec.min_replicas = 1\n",
    "fn.spec.max_replicas = 1\n",
    "\n",
    "fn.set_env('API_GATEWAY', os.getenv('API_GATEWAY'))\n",
    "fn.set_env('PROJECT', os.getenv('PROJECT'))\n",
    "fn.set_env('IGZ_NAMESPACE_DOMAIN', os.getenv('IGZ_NAMESPACE_DOMAIN'))\n",
    "fn.set_env('RAW_VIDEO_STREAM' ,os.getenv('RAW_VIDEO_STREAM'))\n",
    "fn.set_env('TAGGED_VIDEO_STREAM', os.getenv('TAGGED_VIDEO_STREAM'))\n",
    "fn.set_env('IGZ_CONTAINER', os.getenv('IGZ_CONTAINER'))\n",
    "fn.set_env('shardId', os.getenv('shardId'))\n",
    "\n",
    "fn.export(\"../yaml/create-grafana-dashboard.yaml\")"
   ]
  },
  {
   "cell_type": "code",
   "execution_count": null,
   "metadata": {},
   "outputs": [],
   "source": []
  }
 ],
 "metadata": {
  "kernelspec": {
   "display_name": "Python [conda env:root] *",
   "language": "python",
   "name": "conda-root-py"
  },
  "language_info": {
   "codemirror_mode": {
    "name": "ipython",
    "version": 3
   },
   "file_extension": ".py",
   "mimetype": "text/x-python",
   "name": "python",
   "nbconvert_exporter": "python",
   "pygments_lexer": "ipython3",
   "version": "3.7.6"
  }
 },
 "nbformat": 4,
 "nbformat_minor": 4
}
