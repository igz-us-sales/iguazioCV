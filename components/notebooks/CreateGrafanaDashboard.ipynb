{
 "cells": [
  {
   "cell_type": "markdown",
   "metadata": {},
   "source": [
    "### Create Grafana Dashboard"
   ]
  },
  {
   "cell_type": "code",
   "execution_count": null,
   "metadata": {},
   "outputs": [],
   "source": [
    "from grafwiz import *\n",
    "import os\n",
    "import v3io_frames as v3f\n",
    "\n",
    "def handler(context, event):\n",
    "    \n",
    "    raw_stream_url = f\"https://{os.getenv('API_GATEWAY')}-{os.getenv('PROJECT')}.{os.getenv('IGZ_NAMESPACE_DOMAIN')}/?shardId={os.getenv('SHARD_ID')}&container={os.getenv('IGZ_CONTAINER')}&stream={os.getenv('RAW_VIDEO_STREAM')}\"\n",
    "    tagged_stream_url = f\"https://{os.getenv('API_GATEWAY')}-{os.getenv('PROJECT')}.{os.getenv('IGZ_NAMESPACE_DOMAIN')}/?shardId={os.getenv('SHARD_ID')}&container={os.getenv('IGZ_CONTAINER')}&stream={os.getenv('TAGGED_VIDEO_STREAM')}\"\n",
    "    \n",
    "    params_js = \"\"\"{\n",
    "         from:ctrl.range.from.format('x'),  // x is unix ms timestamp\n",
    "         to:ctrl.range.to.format('x'), \n",
    "         height:ctrl.height,\n",
    "         now:Date.now(),\n",
    "         interval: ctrl.template('$__interval'),\n",
    "         sample: 'Not escaped: $__interval',\n",
    "         since:ctrl.lastRequestTime\n",
    "        }\"\"\"\n",
    "    \n",
    "    dash = Dashboard(\"Stream Viewer Test\", start='now', dataSource='iguazio', refresh='1s')\n",
    "    \n",
    "    raw_stream = Ajax(title='Raw Stream',\n",
    "                      url=raw_stream_url,\n",
    "                      method=\"iframe\",\n",
    "                      params_js=params_js)\n",
    "    \n",
    "    tagged_stream = Ajax(title='Tagged Stream',\n",
    "                      url=tagged_stream_url,\n",
    "                      method=\"iframe\",\n",
    "                      params_js=params_js)\n",
    "    \n",
    "    dash.row([raw_stream, tagged_stream])\n",
    "    \n",
    "    return dash.deploy('http://grafana')"
   ]
  }
 ],
 "metadata": {
  "kernelspec": {
   "display_name": "Python [conda env:root] *",
   "language": "python",
   "name": "conda-root-py"
  },
  "language_info": {
   "codemirror_mode": {
    "name": "ipython",
    "version": 3
   },
   "file_extension": ".py",
   "mimetype": "text/x-python",
   "name": "python",
   "nbconvert_exporter": "python",
   "pygments_lexer": "ipython3",
   "version": "3.7.6"
  }
 },
 "nbformat": 4,
 "nbformat_minor": 4
}
