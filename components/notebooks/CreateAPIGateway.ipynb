{
 "cells": [
  {
   "cell_type": "markdown",
   "metadata": {},
   "source": [
    "### Create API Gateway for Image Retrieval Function"
   ]
  },
  {
   "cell_type": "code",
   "execution_count": 1,
   "metadata": {},
   "outputs": [],
   "source": [
    "import nuclio"
   ]
  },
  {
   "cell_type": "code",
   "execution_count": null,
   "metadata": {},
   "outputs": [],
   "source": [
    "# %run components/util/set_env.ipynb"
   ]
  },
  {
   "cell_type": "code",
   "execution_count": 2,
   "metadata": {},
   "outputs": [],
   "source": [
    "%run ../util/set_env.ipynb"
   ]
  },
  {
   "cell_type": "code",
   "execution_count": 3,
   "metadata": {},
   "outputs": [],
   "source": [
    "# nuclio: start-code"
   ]
  },
  {
   "cell_type": "code",
   "execution_count": 4,
   "metadata": {},
   "outputs": [
    {
     "name": "stdout",
     "output_type": "stream",
     "text": [
      "Session opened, your session ID is: 44293a1e-5d90-4e94-9038-5f61e8daf818\n"
     ]
    }
   ],
   "source": [
    "import urllib3\n",
    "import requests\n",
    "import json\n",
    "import time\n",
    "import os\n",
    "\n",
    "# HACK for systems without production cert - shut up the no cert verification WARN\n",
    "urllib3.disable_warnings(urllib3.exceptions.InsecureRequestWarning)\n",
    "\n",
    "API_GATEWAY_NAME = f\"{os.getenv('API_GATEWAY')}-{os.getenv('PROJECT')}\"\n",
    "API_GATEWAY_HOST = f\"{API_GATEWAY_NAME}.{os.getenv('IGZ_NAMESPACE_DOMAIN')}\"\n",
    "API_FUNCTION = f\"{os.getenv('PROJECT')}-{os.getenv('GET_IMAGE_FUNCTION')}\"\n",
    "DASHBOARD_URL = f\"https://dashboard.{os.getenv('IGZ_NAMESPACE_DOMAIN')}\"\n",
    "\n",
    "session = requests.Session()\n",
    "session.auth = (os.getenv(\"V3IO_USERNAME\"), os.getenv(\"IGZ_AUTH\"))\n",
    "auth = session.post(f'{DASHBOARD_URL}/api/sessions', verify=False)\n",
    "\n",
    "session_id = auth.json()['data']['id']\n",
    "print(f'Session opened, your session ID is: {session_id}')\n",
    "\n",
    "request = {\n",
    "   'data':{\n",
    "      'attributes':{\n",
    "         'meta':{\n",
    "            'name': os.getenv(\"API_GATEWAY\"),\n",
    "             \"labels\": {\n",
    "                \"entries\": [\n",
    "                  {\n",
    "                    \"value\": os.getenv(\"V3IO_USERNAME\"),\n",
    "                    \"key\": \"iguazio.com/username\"\n",
    "                  },\n",
    "                  {\n",
    "                    \"value\": os.getenv(\"PROJECT\"),\n",
    "                    \"key\": \"project-name\"\n",
    "                  }\n",
    "                ]\n",
    "            },\n",
    "         },\n",
    "         'spec':{\n",
    "            'authentication_mode':'none',\n",
    "            'host': API_GATEWAY_HOST,\n",
    "            'upstreams':[\n",
    "               {\n",
    "                  'kind':'nucliofunction',\n",
    "                  'nucliofunction':{\n",
    "                     'name': API_FUNCTION,\n",
    "                  }\n",
    "               },\n",
    "            ],\n",
    "            'description':f'Get image from \"{os.getenv(\"TAGGED_VIDEO_STREAM\")}\"',\n",
    "            'name': os.getenv(\"API_GATEWAY\"),\n",
    "         },\n",
    "      },\n",
    "      'type':'api_gateway'\n",
    "   },\n",
    "}\n",
    "\n",
    "def handler(context, event):\n",
    "    response = session.post(f'{DASHBOARD_URL}/api/api_gateways', json=request, headers={'x-igz-project-name': os.getenv(\"PROJECT\")})\n",
    "    if response.status_code == 409:\n",
    "        print(f'API Gateway with name {API_GATEWAY_NAME} already exists (That\\'s OK!)')\n",
    "    else:\n",
    "        print(json.dumps(response.json(), indent=2))\n",
    "\n",
    "    print('Done creating API gateway!')"
   ]
  },
  {
   "cell_type": "code",
   "execution_count": 5,
   "metadata": {},
   "outputs": [],
   "source": [
    "# nuclio: end-code"
   ]
  },
  {
   "cell_type": "code",
   "execution_count": 6,
   "metadata": {},
   "outputs": [],
   "source": [
    "from mlrun import code_to_function, mount_v3io, mlconf\n",
    "import os\n",
    "\n",
    "fn = code_to_function('create-api-gateway', kind='job', handler=\"handler\", project=os.getenv(\"PROJECT\"))"
   ]
  },
  {
   "cell_type": "code",
   "execution_count": 7,
   "metadata": {},
   "outputs": [
    {
     "name": "stdout",
     "output_type": "stream",
     "text": [
      "> 2020-10-28 19:54:47,102 [info] function spec saved to path: ../yaml/create-api-gateway.yaml\n"
     ]
    },
    {
     "data": {
      "text/plain": [
       "<mlrun.runtimes.kubejob.KubejobRuntime at 0x7f4e30bc4e90>"
      ]
     },
     "execution_count": 7,
     "metadata": {},
     "output_type": "execute_result"
    }
   ],
   "source": [
    "fn.spec.build.image = f\"docker-registry.{os.getenv('IGZ_NAMESPACE_DOMAIN')}:80/{os.getenv('DOCKER_IMAGE')}\"\n",
    "fn.spec.min_replicas = 1\n",
    "fn.spec.max_replicas = 1\n",
    "\n",
    "fn.set_env('API_GATEWAY', API_GATEWAY)\n",
    "fn.set_env('PROJECT', PROJECT)\n",
    "fn.set_env('GET_IMAGE_FUNCTION', GET_IMAGE_FUNCTION)\n",
    "fn.set_env('V3IO_USERNAME', os.getenv('V3IO_USERNAME'))\n",
    "fn.set_env('IGZ_AUTH', IGZ_AUTH)\n",
    "fn.set_env('IGZ_NAMESPACE_DOMAIN', os.getenv('IGZ_NAMESPACE_DOMAIN'))\n",
    "fn.set_env('TAGGED_VIDEO_STREAM', TAGGED_VIDEO_STREAM)\n",
    "\n",
    "fn.export(\"../yaml/create-api-gateway.yaml\")"
   ]
  },
  {
   "cell_type": "code",
   "execution_count": null,
   "metadata": {},
   "outputs": [],
   "source": []
  }
 ],
 "metadata": {
  "kernelspec": {
   "display_name": "Python [conda env:root] *",
   "language": "python",
   "name": "conda-root-py"
  },
  "language_info": {
   "codemirror_mode": {
    "name": "ipython",
    "version": 3
   },
   "file_extension": ".py",
   "mimetype": "text/x-python",
   "name": "python",
   "nbconvert_exporter": "python",
   "pygments_lexer": "ipython3",
   "version": "3.7.6"
  }
 },
 "nbformat": 4,
 "nbformat_minor": 4
}
