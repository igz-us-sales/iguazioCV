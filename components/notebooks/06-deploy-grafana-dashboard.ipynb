{
 "cells": [
  {
   "cell_type": "markdown",
   "metadata": {},
   "source": [
    "### Deploy Grafana dashboard"
   ]
  },
  {
   "cell_type": "code",
   "execution_count": 1,
   "metadata": {},
   "outputs": [],
   "source": [
    "import nuclio\n",
    "import os"
   ]
  },
  {
   "cell_type": "code",
   "execution_count": 2,
   "metadata": {},
   "outputs": [],
   "source": [
    "%run set_env.ipynb"
   ]
  },
  {
   "cell_type": "code",
   "execution_count": 3,
   "metadata": {},
   "outputs": [],
   "source": [
    "# nuclio: start-code"
   ]
  },
  {
   "cell_type": "code",
   "execution_count": 4,
   "metadata": {},
   "outputs": [],
   "source": [
    "from grafwiz import *\n",
    "import os\n",
    "import v3io_frames as v3f"
   ]
  },
  {
   "cell_type": "code",
   "execution_count": 5,
   "metadata": {},
   "outputs": [],
   "source": [
    "def handler(context, event):\n",
    "    \n",
    "    raw_stream_url = f\"https://{os.getenv('API_GATEWAY')}-{os.getenv('PROJECT')}.{os.getenv('IGZ_NAMESPACE_DOMAIN')}/?shardId={os.getenv('shardId')}&container={os.getenv('IGZ_CONTAINER')}&stream={os.getenv('RAW_VIDEO_STREAM')}\"\n",
    "    tagged_stream_url = f\"https://{os.getenv('API_GATEWAY')}-{os.getenv('PROJECT')}.{os.getenv('IGZ_NAMESPACE_DOMAIN')}/?shardId={os.getenv('shardId')}&container={os.getenv('IGZ_CONTAINER')}&stream={os.getenv('TAGGED_VIDEO_STREAM')}\"\n",
    "    \n",
    "    params_js = \"\"\"{\n",
    "         from:ctrl.range.from.format('x'),  // x is unix ms timestamp\n",
    "         to:ctrl.range.to.format('x'), \n",
    "         height:ctrl.height,\n",
    "         now:Date.now(),\n",
    "         interval: ctrl.template('$__interval'),\n",
    "         sample: 'Not escaped: $__interval',\n",
    "         since:ctrl.lastRequestTime\n",
    "        }\"\"\"\n",
    "    \n",
    "    dash = Dashboard(\"Stream Viewer Test\", start='now', dataSource='iguazio', refresh='1s')\n",
    "    \n",
    "    raw_stream = Ajax(title='Raw Stream',\n",
    "                      url=raw_stream_url,\n",
    "                      method=\"iframe\",\n",
    "                      params_js=params_js)\n",
    "    \n",
    "    tagged_stream = Ajax(title='Tagged Stream',\n",
    "                      url=tagged_stream_url,\n",
    "                      method=\"iframe\",\n",
    "                      params_js=params_js)\n",
    "    \n",
    "    dash.row([raw_stream, tagged_stream])\n",
    "    \n",
    "    return dash.deploy('http://grafana')"
   ]
  },
  {
   "cell_type": "code",
   "execution_count": 6,
   "metadata": {},
   "outputs": [],
   "source": [
    "# nuclio: end-code"
   ]
  },
  {
   "cell_type": "code",
   "execution_count": 7,
   "metadata": {},
   "outputs": [],
   "source": [
    "# nuclio: ignore\n",
    "# converts the notebook code to deployable function with configurations\n",
    "from mlrun import code_to_function, mount_v3io, mlconf\n",
    "import os\n",
    "\n",
    "fn = code_to_function('grafana-dashboard', kind='nuclio')"
   ]
  },
  {
   "cell_type": "code",
   "execution_count": 8,
   "metadata": {},
   "outputs": [
    {
     "data": {
      "text/plain": [
       "<mlrun.runtimes.function.RemoteRuntime at 0x7fe0dd44f510>"
      ]
     },
     "execution_count": 8,
     "metadata": {},
     "output_type": "execute_result"
    }
   ],
   "source": [
    "# set the API/trigger, attach the home dir to the function\n",
    "fn.with_http(workers=1).apply(mount_v3io())\n",
    "#fn.spec.build.base_image = 'mlrun/mlrun'\n",
    "fn.spec.base_spec['spec']['build']['baseImage'] = 'python:3.6-jessie'\n",
    "fn.spec.build.commands = ['pip install git+https://github.com/v3io/grafwiz v3io_frames']\n",
    "fn.spec.min_replicas = 1\n",
    "fn.spec.max_replicas = 1\n",
    "fn.set_env('API_GATEWAY', os.getenv('API_GATEWAY'))\n",
    "fn.set_env('PROJECT', os.getenv('PROJECT'))\n",
    "fn.set_env('IGZ_NAMESPACE_DOMAIN', os.getenv('IGZ_NAMESPACE_DOMAIN'))\n",
    "fn.set_env('RAW_VIDEO_STREAM' ,os.getenv('RAW_VIDEO_STREAM'))\n",
    "fn.set_env('TAGGED_VIDEO_STREAM', os.getenv('TAGGED_VIDEO_STREAM'))\n",
    "fn.set_env('IGZ_CONTAINER', os.getenv('IGZ_CONTAINER'))\n",
    "fn.set_env('shardId', os.getenv('shardId'))\n",
    "fn.apply(mount_v3io())"
   ]
  },
  {
   "cell_type": "code",
   "execution_count": 9,
   "metadata": {},
   "outputs": [],
   "source": [
    "# print(fn.to_yaml())"
   ]
  },
  {
   "cell_type": "code",
   "execution_count": 10,
   "metadata": {},
   "outputs": [
    {
     "name": "stdout",
     "output_type": "stream",
     "text": [
      "> 2020-10-26 16:38:21,000 [info] deploy started\n",
      "[nuclio] 2020-10-26 16:38:22,082 (info) Build complete\n",
      "[nuclio] 2020-10-26 16:38:28,145 (info) Function deploy complete\n",
      "[nuclio] 2020-10-26 16:38:28,152 done creating objectrecognition-grafana-dashboard, function address: 18.224.192.183:32527\n"
     ]
    }
   ],
   "source": [
    "# nuclio: ignore\n",
    "addr = fn.deploy(project='objectrecognition')"
   ]
  },
  {
   "cell_type": "code",
   "execution_count": 11,
   "metadata": {},
   "outputs": [],
   "source": [
    "!curl $addr"
   ]
  },
  {
   "cell_type": "code",
   "execution_count": null,
   "metadata": {},
   "outputs": [],
   "source": []
  }
 ],
 "metadata": {
  "kernelspec": {
   "display_name": "Python [conda env:root] *",
   "language": "python",
   "name": "conda-root-py"
  },
  "language_info": {
   "codemirror_mode": {
    "name": "ipython",
    "version": 3
   },
   "file_extension": ".py",
   "mimetype": "text/x-python",
   "name": "python",
   "nbconvert_exporter": "python",
   "pygments_lexer": "ipython3",
   "version": "3.7.6"
  }
 },
 "nbformat": 4,
 "nbformat_minor": 4
}
