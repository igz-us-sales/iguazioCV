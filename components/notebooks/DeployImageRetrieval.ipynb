{
 "cells": [
  {
   "cell_type": "markdown",
   "metadata": {},
   "source": [
    "### Image Retrieval Function"
   ]
  },
  {
   "cell_type": "code",
   "execution_count": 1,
   "metadata": {},
   "outputs": [],
   "source": [
    "import nuclio"
   ]
  },
  {
   "cell_type": "code",
   "execution_count": 2,
   "metadata": {},
   "outputs": [],
   "source": [
    "%run ../../set_env.ipynb"
   ]
  },
  {
   "cell_type": "code",
   "execution_count": 3,
   "metadata": {},
   "outputs": [],
   "source": [
    "# nuclio: start-code"
   ]
  },
  {
   "cell_type": "code",
   "execution_count": 4,
   "metadata": {},
   "outputs": [],
   "source": [
    "import requests\n",
    "import json\n",
    "import base64\n",
    "import os\n",
    "import time\n",
    "\n",
    "headers = {\n",
    "            \"Content-Type\": \"application/json\",\n",
    "            \"X-v3io-session-key\" : os.getenv(\"V3IO_ACCESS_KEY\")\n",
    "          }\n",
    "\n",
    "def seek_location(context,\n",
    "                  shardId: int = 0,\n",
    "                  container: str = '',\n",
    "                  stream: str = \"\",\n",
    "                  url = '',\n",
    "                 secondsLapsed = 1):\n",
    "    payload = {\n",
    "            \"ShardId\": shardId,\n",
    "            \"Type\": \"TIME\",\n",
    "        \"TimestampSec\":int(time.time())-secondsLapsed,\n",
    "        \"TimestampNSec\" : 0\n",
    "          }\n",
    "    headers[\"X-v3io-function\"] = \"Seek\"\n",
    "    r = requests.post(url, headers=headers,json=payload)\n",
    "    return json.loads(r.text)['Location']\n",
    "\n",
    "def get_image(context,\n",
    "              url,\n",
    "              shardId,\n",
    "              container,\n",
    "              stream,\n",
    "              secondsLapsed):\n",
    "    location = seek_location(context,shardId=shardId,\n",
    "                             container=container,\n",
    "                             stream=stream,\n",
    "                             url=url,\n",
    "                            secondsLapsed = secondsLapsed)\n",
    "    img_payload = {\n",
    "            \"ShardId\":    shardId,\n",
    "            \"Location\":   location,\n",
    "        \"Limit\":1\n",
    "    }\n",
    "    headers[\"X-v3io-function\"] = \"GetRecords\"\n",
    "    r = requests.post(url, headers=headers,json=img_payload)\n",
    "    \n",
    "    response=json.loads(r.text)\n",
    "    \n",
    "    return response\n",
    "\n",
    "def handler(context, event):\n",
    "    params = event.fields\n",
    "    shardId=int(params['shardId'])\n",
    "    container=params['container']\n",
    "    stream=params['stream']\n",
    "    \n",
    "    url = \"http://v3io-webapi:8081/%s/%s/\"% (container,stream)\n",
    "    headers = { \"Content-Type\": \"application/json\",\n",
    "            \"X-v3io-session-key\" : os.getenv(\"V3IO_ACCESS_KEY\")\n",
    "    }\n",
    "\n",
    "    secondsLapsed = 1\n",
    "    while True:\n",
    "          response = get_image(context,url,shardId,container,stream,secondsLapsed )\n",
    "          data = False  \n",
    "          for record in response['Records']:\n",
    "                data = base64.b64decode(record['Data']) \n",
    "          if data:\n",
    "            break\n",
    "          else:\n",
    "              secondsLapsed += 1\n",
    "    \n",
    "    return data"
   ]
  },
  {
   "cell_type": "code",
   "execution_count": 5,
   "metadata": {},
   "outputs": [],
   "source": [
    "# nuclio: end-code"
   ]
  },
  {
   "cell_type": "code",
   "execution_count": 6,
   "metadata": {},
   "outputs": [
    {
     "name": "stdout",
     "output_type": "stream",
     "text": [
      "> 2020-10-27 23:13:27,598 [info] function spec saved to path: ../yaml/deploy-image-retrieval.yaml\n"
     ]
    },
    {
     "data": {
      "text/plain": [
       "<mlrun.runtimes.function.RemoteRuntime at 0x7f49189daa50>"
      ]
     },
     "execution_count": 6,
     "metadata": {},
     "output_type": "execute_result"
    }
   ],
   "source": [
    "from mlrun import code_to_function, mount_v3io, mlconf\n",
    "import os\n",
    "\n",
    "fn = code_to_function(os.getenv('GET_IMAGE_FUNCTION'), kind='nuclio')\n",
    "\n",
    "fn.with_http(workers=1)\n",
    "\n",
    "fn.spec.base_spec['spec']['build']['baseImage'] = f\"docker-registry.{os.getenv('IGZ_NAMESPACE_DOMAIN')}:80/{os.getenv('DOCKER_IMAGE')}\"\n",
    "fn.spec.base_spec['spec']['loggerSinks'] = [{'level': 'info'}]\n",
    "fn.spec.min_replicas = 1\n",
    "fn.spec.max_replicas = 1\n",
    "\n",
    "fn.set_env('V3IO_ACCESS_KEY',os.getenv('V3IO_ACCESS_KEY'))\n",
    "fn.set_env('IGZ_CONTAINER',IGZ_CONTAINER)\n",
    "fn.set_env('RAW_VIDEO_STREAM',RAW_VIDEO_STREAM)\n",
    "fn.set_env('TAGGED_VIDEO_STREAM',TAGGED_VIDEO_STREAM)\n",
    "fn.set_env('CAMERA_LIST_TBL',CAMERA_LIST_TBL)\n",
    "fn.set_env('GET_IMAGE_FUNCTION', GET_IMAGE_FUNCTION)\n",
    "\n",
    "fn.export(\"../yaml/deploy-image-retrieval.yaml\")"
   ]
  },
  {
   "cell_type": "code",
   "execution_count": null,
   "metadata": {},
   "outputs": [],
   "source": []
  }
 ],
 "metadata": {
  "kernelspec": {
   "display_name": "Python [conda env:root] *",
   "language": "python",
   "name": "conda-root-py"
  },
  "language_info": {
   "codemirror_mode": {
    "name": "ipython",
    "version": 3
   },
   "file_extension": ".py",
   "mimetype": "text/x-python",
   "name": "python",
   "nbconvert_exporter": "python",
   "pygments_lexer": "ipython3",
   "version": "3.7.6"
  }
 },
 "nbformat": 4,
 "nbformat_minor": 4
}
