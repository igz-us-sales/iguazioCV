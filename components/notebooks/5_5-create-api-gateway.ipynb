{
 "cells": [
  {
   "cell_type": "markdown",
   "metadata": {},
   "source": [
    "### Create API gateway for get image function"
   ]
  },
  {
   "cell_type": "code",
   "execution_count": 1,
   "metadata": {},
   "outputs": [],
   "source": [
    "import nuclio"
   ]
  },
  {
   "cell_type": "code",
   "execution_count": 2,
   "metadata": {},
   "outputs": [],
   "source": [
    "%run set_env.ipynb"
   ]
  },
  {
   "cell_type": "code",
   "execution_count": 3,
   "metadata": {},
   "outputs": [],
   "source": [
    "# nuclio: start-code"
   ]
  },
  {
   "cell_type": "code",
   "execution_count": 4,
   "metadata": {},
   "outputs": [],
   "source": [
    "import urllib3\n",
    "import requests\n",
    "import json\n",
    "import time\n",
    "import os\n",
    "\n",
    "# HACK for systems without production cert - shut up the no cert verification WARN\n",
    "urllib3.disable_warnings(urllib3.exceptions.InsecureRequestWarning)"
   ]
  },
  {
   "cell_type": "code",
   "execution_count": 5,
   "metadata": {},
   "outputs": [],
   "source": [
    "API_GATEWAY_NAME = f\"{os.getenv('API_GATEWAY')}-{os.getenv('PROJECT')}\"\n",
    "API_GATEWAY_HOST = f\"{API_GATEWAY_NAME}.{os.getenv('IGZ_NAMESPACE_DOMAIN')}\"\n",
    "API_FUNCTION = f\"{os.getenv('PROJECT')}-{os.getenv('GET_IMAGE_FUNCTION')}\"\n",
    "DASHBOARD_URL = f\"https://dashboard.{os.getenv('IGZ_NAMESPACE_DOMAIN')}\""
   ]
  },
  {
   "cell_type": "code",
   "execution_count": 6,
   "metadata": {},
   "outputs": [
    {
     "name": "stdout",
     "output_type": "stream",
     "text": [
      "Session opened, your session ID is: b0ba8e2a-5e49-468c-b07e-215458233743\n"
     ]
    }
   ],
   "source": [
    "session = requests.Session()\n",
    "session.auth = (os.getenv(\"V3IO_USERNAME\"), os.getenv(\"IGZ_AUTH\"))\n",
    "auth = session.post(f'{DASHBOARD_URL}/api/sessions', verify=False)\n",
    "\n",
    "session_id = auth.json()['data']['id']\n",
    "print(f'Session opened, your session ID is: {session_id}')"
   ]
  },
  {
   "cell_type": "code",
   "execution_count": 7,
   "metadata": {},
   "outputs": [],
   "source": [
    "request = {\n",
    "   'data':{\n",
    "      'attributes':{\n",
    "         'meta':{\n",
    "            'name': os.getenv(\"API_GATEWAY\"),\n",
    "             \"labels\": {\n",
    "                \"entries\": [\n",
    "                  {\n",
    "                    \"value\": os.getenv(\"V3IO_USERNAME\"),\n",
    "                    \"key\": \"iguazio.com/username\"\n",
    "                  },\n",
    "                  {\n",
    "                    \"value\": os.getenv(\"PROJECT\"),\n",
    "                    \"key\": \"project-name\"\n",
    "                  }\n",
    "                ]\n",
    "            },\n",
    "         },\n",
    "         'spec':{\n",
    "            'authentication_mode':'none',\n",
    "            'host': API_GATEWAY_HOST,\n",
    "            'upstreams':[\n",
    "               {\n",
    "                  'kind':'nucliofunction',\n",
    "                  'nucliofunction':{\n",
    "                     'name': API_FUNCTION,\n",
    "                  }\n",
    "               },\n",
    "            ],\n",
    "            'description':f'Get image from \"{os.getenv(\"TAGGED_VIDEO_STREAM\")}\"',\n",
    "            'name': os.getenv(\"API_GATEWAY\"),\n",
    "         },\n",
    "      },\n",
    "      'type':'api_gateway'\n",
    "   },\n",
    "}"
   ]
  },
  {
   "cell_type": "code",
   "execution_count": 8,
   "metadata": {},
   "outputs": [],
   "source": [
    "def handler(context, event):\n",
    "    response = session.post(f'{DASHBOARD_URL}/api/api_gateways', json=request, headers={'x-igz-project-name': os.getenv(\"PROJECT\")})\n",
    "    if response.status_code == 409:\n",
    "        print(f'API Gateway with name {API_GATEWAY_NAME} already exists (That\\'s OK!)')\n",
    "    else:\n",
    "        print(json.dumps(response.json(), indent=2))\n",
    "\n",
    "    print('Done creating API gateway!')"
   ]
  },
  {
   "cell_type": "code",
   "execution_count": 9,
   "metadata": {},
   "outputs": [],
   "source": [
    "# nuclio: end-code"
   ]
  },
  {
   "cell_type": "code",
   "execution_count": 10,
   "metadata": {},
   "outputs": [],
   "source": [
    "import os"
   ]
  },
  {
   "cell_type": "code",
   "execution_count": 11,
   "metadata": {},
   "outputs": [],
   "source": [
    "# nuclio: ignore\n",
    "# converts the notebook code to deployable function with configurations\n",
    "from mlrun import code_to_function, mount_v3io, mlconf\n",
    "import os\n",
    "\n",
    "fn = code_to_function('create-api-gateway', kind='job', handler=\"handler\", project=\"objectrecognition\")"
   ]
  },
  {
   "cell_type": "code",
   "execution_count": 12,
   "metadata": {},
   "outputs": [
    {
     "data": {
      "text/plain": [
       "<mlrun.runtimes.kubejob.KubejobRuntime at 0x7fe7f35f2150>"
      ]
     },
     "execution_count": 12,
     "metadata": {},
     "output_type": "execute_result"
    }
   ],
   "source": [
    "# set the API/trigger, attach the home dir to the function\n",
    "# fn.with_http(workers=1).apply(mount_v3io())\n",
    "fn.spec.build.base_image = 'mlrun/mlrun'\n",
    "# fn.spec.base_spec['spec']['build']['baseImage'] = 'python:3.6-jessie'\n",
    "# fn.spec.build.commands = ['pip install requests']\n",
    "fn.spec.min_replicas = 1\n",
    "fn.spec.max_replicas = 1\n",
    "fn.set_env('API_GATEWAY', API_GATEWAY)\n",
    "fn.set_env('PROJECT', PROJECT)\n",
    "fn.set_env('GET_IMAGE_FUNCTION', GET_IMAGE_FUNCTION)\n",
    "fn.set_env('V3IO_USERNAME', os.getenv('V3IO_USERNAME'))\n",
    "fn.set_env('IGZ_AUTH', IGZ_AUTH)\n",
    "fn.set_env('IGZ_NAMESPACE_DOMAIN', os.getenv('IGZ_NAMESPACE_DOMAIN'))\n",
    "fn.set_env('TAGGED_VIDEO_STREAM', TAGGED_VIDEO_STREAM)\n",
    "fn.apply(mount_v3io())"
   ]
  },
  {
   "cell_type": "code",
   "execution_count": 13,
   "metadata": {},
   "outputs": [],
   "source": [
    "# print(fn.to_yaml())"
   ]
  },
  {
   "cell_type": "code",
   "execution_count": 15,
   "metadata": {},
   "outputs": [],
   "source": [
    "# nuclio: ignore\n",
    "# addr = fn.deploy(project='objectrecognition')\n",
    "# addr = fn.deploy(with_mlrun=False)"
   ]
  },
  {
   "cell_type": "code",
   "execution_count": 17,
   "metadata": {},
   "outputs": [
    {
     "name": "stdout",
     "output_type": "stream",
     "text": [
      "> 2020-10-26 21:21:38,915 [info] starting run create-api-gateway-handler uid=50982609355649cb9470a396ca8d2aa9  -> http://mlrun-api:8080\n",
      "> 2020-10-26 21:21:39,077 [info] Job is running in the background, pod: create-api-gateway-handler-sq68s\n",
      "Session opened, your session ID is: b7ca8d79-ab76-4859-b981-f65b71d34601\n",
      "{\n",
      "  \"included\": [],\n",
      "  \"meta\": {\n",
      "    \"ctx\": \"12859867783551689999\"\n",
      "  },\n",
      "  \"data\": {\n",
      "    \"type\": \"job\",\n",
      "    \"id\": \"2812463b-5b5e-4085-bf25-2ad3c35efc83\"\n",
      "  }\n",
      "}\n",
      "Done creating API gateway!\n",
      "> 2020-10-26 21:21:43,619 [info] run executed, status=completed\n",
      "final state: succeeded\n"
     ]
    },
    {
     "data": {
      "text/html": [
       "<style>\n",
       ".dictlist {\n",
       "  background-color: #b3edff;\n",
       "  text-align: center;\n",
       "  margin: 4px;\n",
       "  border-radius: 3px; padding: 0px 3px 1px 3px; display: inline-block;}\n",
       ".artifact {\n",
       "  cursor: pointer;\n",
       "  background-color: #ffe6cc;\n",
       "  text-align: left;\n",
       "  margin: 4px; border-radius: 3px; padding: 0px 3px 1px 3px; display: inline-block;\n",
       "}\n",
       "div.block.hidden {\n",
       "  display: none;\n",
       "}\n",
       ".clickable {\n",
       "  cursor: pointer;\n",
       "}\n",
       ".ellipsis {\n",
       "  display: inline-block;\n",
       "  max-width: 60px;\n",
       "  white-space: nowrap;\n",
       "  overflow: hidden;\n",
       "  text-overflow: ellipsis;\n",
       "}\n",
       ".master-wrapper {\n",
       "  display: flex;\n",
       "  flex-flow: row nowrap;\n",
       "  justify-content: flex-start;\n",
       "  align-items: stretch;\n",
       "}\n",
       ".master-tbl {\n",
       "  flex: 3\n",
       "}\n",
       ".master-wrapper > div {\n",
       "  margin: 4px;\n",
       "  padding: 10px;\n",
       "}\n",
       "iframe.fileview {\n",
       "  border: 0 none;\n",
       "  height: 100%;\n",
       "  width: 100%;\n",
       "  white-space: pre-wrap;\n",
       "}\n",
       ".pane-header-title {\n",
       "  width: 80%;\n",
       "  font-weight: 500;\n",
       "}\n",
       ".pane-header {\n",
       "  line-height: 1;\n",
       "  background-color: #ffe6cc;\n",
       "  padding: 3px;\n",
       "}\n",
       ".pane-header .close {\n",
       "  font-size: 20px;\n",
       "  font-weight: 700;\n",
       "  float: right;\n",
       "  margin-top: -5px;\n",
       "}\n",
       ".master-wrapper .right-pane {\n",
       "  border: 1px inset silver;\n",
       "  width: 40%;\n",
       "  min-height: 300px;\n",
       "  flex: 3\n",
       "  min-width: 500px;\n",
       "}\n",
       ".master-wrapper * {\n",
       "  box-sizing: border-box;\n",
       "}\n",
       "</style><script>\n",
       "function copyToClipboard(fld) {\n",
       "    if (document.queryCommandSupported && document.queryCommandSupported('copy')) {\n",
       "        var textarea = document.createElement('textarea');\n",
       "        textarea.textContent = fld.innerHTML;\n",
       "        textarea.style.position = 'fixed';\n",
       "        document.body.appendChild(textarea);\n",
       "        textarea.select();\n",
       "\n",
       "        try {\n",
       "            return document.execCommand('copy'); // Security exception may be thrown by some browsers.\n",
       "        } catch (ex) {\n",
       "\n",
       "        } finally {\n",
       "            document.body.removeChild(textarea);\n",
       "        }\n",
       "    }\n",
       "}\n",
       "function expandPanel(el) {\n",
       "  const panelName = \"#\" + el.getAttribute('paneName');\n",
       "  console.log(el.title);\n",
       "\n",
       "  document.querySelector(panelName + \"-title\").innerHTML = el.title\n",
       "  iframe = document.querySelector(panelName + \"-body\");\n",
       "\n",
       "  const tblcss = `<style> body { font-family: Arial, Helvetica, sans-serif;}\n",
       "    #csv { margin-bottom: 15px; }\n",
       "    #csv table { border-collapse: collapse;}\n",
       "    #csv table td { padding: 4px 8px; border: 1px solid silver;} </style>`;\n",
       "\n",
       "  function csvToHtmlTable(str) {\n",
       "    return '<div id=\"csv\"><table><tr><td>' +  str.replace(/[\\n\\r]+$/g, '').replace(/[\\n\\r]+/g, '</td></tr><tr><td>')\n",
       "      .replace(/,/g, '</td><td>') + '</td></tr></table></div>';\n",
       "  }\n",
       "\n",
       "  function reqListener () {\n",
       "    if (el.title.endsWith(\".csv\")) {\n",
       "      iframe.setAttribute(\"srcdoc\", tblcss + csvToHtmlTable(this.responseText));\n",
       "    } else {\n",
       "      iframe.setAttribute(\"srcdoc\", this.responseText);\n",
       "    }\n",
       "    console.log(this.responseText);\n",
       "  }\n",
       "\n",
       "  const oReq = new XMLHttpRequest();\n",
       "  oReq.addEventListener(\"load\", reqListener);\n",
       "  oReq.open(\"GET\", el.title);\n",
       "  oReq.send();\n",
       "\n",
       "\n",
       "  //iframe.src = el.title;\n",
       "  const resultPane = document.querySelector(panelName + \"-pane\");\n",
       "  if (resultPane.classList.contains(\"hidden\")) {\n",
       "    resultPane.classList.remove(\"hidden\");\n",
       "  }\n",
       "}\n",
       "function closePanel(el) {\n",
       "  const panelName = \"#\" + el.getAttribute('paneName')\n",
       "  const resultPane = document.querySelector(panelName + \"-pane\");\n",
       "  if (!resultPane.classList.contains(\"hidden\")) {\n",
       "    resultPane.classList.add(\"hidden\");\n",
       "  }\n",
       "}\n",
       "\n",
       "</script>\n",
       "<div class=\"master-wrapper\">\n",
       "  <div class=\"block master-tbl\"><div>\n",
       "<style scoped>\n",
       "    .dataframe tbody tr th:only-of-type {\n",
       "        vertical-align: middle;\n",
       "    }\n",
       "\n",
       "    .dataframe tbody tr th {\n",
       "        vertical-align: top;\n",
       "    }\n",
       "\n",
       "    .dataframe thead th {\n",
       "        text-align: right;\n",
       "    }\n",
       "</style>\n",
       "<table border=\"1\" class=\"dataframe\">\n",
       "  <thead>\n",
       "    <tr style=\"text-align: right;\">\n",
       "      <th>project</th>\n",
       "      <th>uid</th>\n",
       "      <th>iter</th>\n",
       "      <th>start</th>\n",
       "      <th>state</th>\n",
       "      <th>name</th>\n",
       "      <th>labels</th>\n",
       "      <th>inputs</th>\n",
       "      <th>parameters</th>\n",
       "      <th>results</th>\n",
       "      <th>artifacts</th>\n",
       "    </tr>\n",
       "  </thead>\n",
       "  <tbody>\n",
       "    <tr>\n",
       "      <td>objectrecognition</td>\n",
       "      <td><div title=\"50982609355649cb9470a396ca8d2aa9\"><a href=\"https://mlrun-ui.default-tenant.app.nicks-dev-cluster.iguazio-cd2.com/projects/objectrecognition/jobs/50982609355649cb9470a396ca8d2aa9/info\" target=\"_blank\" >...ca8d2aa9</a></div></td>\n",
       "      <td>0</td>\n",
       "      <td>Oct 26 21:21:43</td>\n",
       "      <td>completed</td>\n",
       "      <td>create-api-gateway-handler</td>\n",
       "      <td><div class=\"dictlist\">v3io_user=nicks</div><div class=\"dictlist\">kind=job</div><div class=\"dictlist\">owner=nicks</div><div class=\"dictlist\">host=create-api-gateway-handler-sq68s</div></td>\n",
       "      <td></td>\n",
       "      <td></td>\n",
       "      <td></td>\n",
       "      <td></td>\n",
       "    </tr>\n",
       "  </tbody>\n",
       "</table>\n",
       "</div></div>\n",
       "  <div id=\"resultf8ed21ce-pane\" class=\"right-pane block hidden\">\n",
       "    <div class=\"pane-header\">\n",
       "      <span id=\"resultf8ed21ce-title\" class=\"pane-header-title\">Title</span>\n",
       "      <span onclick=\"closePanel(this)\" paneName=\"resultf8ed21ce\" class=\"close clickable\">&times;</span>\n",
       "    </div>\n",
       "    <iframe class=\"fileview\" id=\"resultf8ed21ce-body\"></iframe>\n",
       "  </div>\n",
       "</div>\n"
      ],
      "text/plain": [
       "<IPython.core.display.HTML object>"
      ]
     },
     "metadata": {},
     "output_type": "display_data"
    },
    {
     "name": "stdout",
     "output_type": "stream",
     "text": [
      "to track results use .show() or .logs() or in CLI: \n",
      "!mlrun get run 50982609355649cb9470a396ca8d2aa9 --project objectrecognition , !mlrun logs 50982609355649cb9470a396ca8d2aa9 --project objectrecognition\n",
      "> 2020-10-26 21:21:45,194 [info] run executed, status=completed\n"
     ]
    },
    {
     "data": {
      "text/plain": [
       "<mlrun.model.RunObject at 0x7fe7f3586e50>"
      ]
     },
     "execution_count": 17,
     "metadata": {},
     "output_type": "execute_result"
    }
   ],
   "source": [
    "fn.run(artifact_path=mlconf.dbpath)"
   ]
  },
  {
   "cell_type": "code",
   "execution_count": 15,
   "metadata": {},
   "outputs": [],
   "source": [
    "!curl $addr"
   ]
  },
  {
   "cell_type": "code",
   "execution_count": null,
   "metadata": {},
   "outputs": [],
   "source": []
  }
 ],
 "metadata": {
  "kernelspec": {
   "display_name": "Python [conda env:root] *",
   "language": "python",
   "name": "conda-root-py"
  },
  "language_info": {
   "codemirror_mode": {
    "name": "ipython",
    "version": 3
   },
   "file_extension": ".py",
   "mimetype": "text/x-python",
   "name": "python",
   "nbconvert_exporter": "python",
   "pygments_lexer": "ipython3",
   "version": "3.7.6"
  }
 },
 "nbformat": 4,
 "nbformat_minor": 4
}
