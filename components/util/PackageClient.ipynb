{
 "cells": [
  {
   "cell_type": "code",
   "execution_count": null,
   "metadata": {},
   "outputs": [],
   "source": [
    "import os"
   ]
  },
  {
   "cell_type": "code",
   "execution_count": null,
   "metadata": {},
   "outputs": [],
   "source": [
    "# Create client_config.yaml\n",
    "v3io_append = f\"\"\"\n",
    "v3io:\n",
    "    webapi: \"https://webapi.{os.getenv('IGZ_NAMESPACE_DOMAIN')}\"\n",
    "    frames: \"https://framesd.{os.getenv('IGZ_NAMESPACE_DOMAIN')}\"\n",
    "    username: \"{os.getenv('V3IO_USERNAME')}\"\n",
    "    access_key: \"{os.getenv('V3IO_ACCESS_KEY')}\"\n",
    "\"\"\"\n",
    "\n",
    "with open(\"config.yaml\", \"r\") as config:\n",
    "    with open(\"components/client/client_config.yaml\", \"w\") as client_config:\n",
    "        client_config.write(config.read())\n",
    "        client_config.write(v3io_append)"
   ]
  },
  {
   "cell_type": "code",
   "execution_count": null,
   "metadata": {},
   "outputs": [],
   "source": [
    "# Create requirements.txt\n",
    "requirements = \"\"\"pandas\n",
    "requests\n",
    "opencv-python==4.2.0.34\n",
    "numpy\n",
    "v3io\n",
    "v3io_frames\n",
    "pyyaml\"\"\"\n",
    "with open(\"components/client/requirements.txt\", \"w\") as f:\n",
    "    f.write(requirements)"
   ]
  },
  {
   "cell_type": "code",
   "execution_count": null,
   "metadata": {},
   "outputs": [],
   "source": [
    "!tar -zcvf client.tar.gz components/client/*"
   ]
  },
  {
   "cell_type": "code",
   "execution_count": null,
   "metadata": {},
   "outputs": [],
   "source": [
    "print(f\"Client packaged to {os.getcwd()}/client.tar.gz\")"
   ]
  }
 ],
 "metadata": {
  "kernelspec": {
   "display_name": "Python [conda env:root] *",
   "language": "python",
   "name": "conda-root-py"
  },
  "language_info": {
   "codemirror_mode": {
    "name": "ipython",
    "version": 3
   },
   "file_extension": ".py",
   "mimetype": "text/x-python",
   "name": "python",
   "nbconvert_exporter": "python",
   "pygments_lexer": "ipython3",
   "version": "3.7.6"
  }
 },
 "nbformat": 4,
 "nbformat_minor": 4
}
