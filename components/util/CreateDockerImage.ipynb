{
 "cells": [
  {
   "cell_type": "code",
   "execution_count": null,
   "metadata": {},
   "outputs": [],
   "source": [
    "import os\n",
    "from mlrun import new_function\n",
    "import yaml\n",
    "with open(\"config.yaml\") as f:\n",
    "    config = yaml.safe_load(f)\n",
    "\n",
    "docker_registry = f\"docker-registry.{os.getenv('IGZ_NAMESPACE_DOMAIN')}:80\"\n",
    "new_image = config['project']['docker_image']\n",
    "image = f\"{docker_registry}/{new_image}\"\n",
    "\n",
    "fn = new_function(name='build-image', kind='job')\n",
    "fn.build_config(image=image,\n",
    "                base_image='mlrun/mlrun',\n",
    "                commands=['pip install opencv-python==4.2.0.34 requests numpy v3io v3io_frames git+https://github.com/v3io/grafwiz'])\n",
    "\n",
    "print(f\"Docker Image Building...\")\n",
    "fn.deploy(with_mlrun=False)\n",
    "print(f\"Docker Image Built: {image}\")"
   ]
  },
  {
   "cell_type": "code",
   "execution_count": null,
   "metadata": {},
   "outputs": [],
   "source": []
  }
 ],
 "metadata": {
  "kernelspec": {
   "display_name": "Python [conda env:root] *",
   "language": "python",
   "name": "conda-root-py"
  },
  "language_info": {
   "codemirror_mode": {
    "name": "ipython",
    "version": 3
   },
   "file_extension": ".py",
   "mimetype": "text/x-python",
   "name": "python",
   "nbconvert_exporter": "python",
   "pygments_lexer": "ipython3",
   "version": "3.7.6"
  }
 },
 "nbformat": 4,
 "nbformat_minor": 4
}
