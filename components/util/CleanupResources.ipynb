{
 "cells": [
  {
   "cell_type": "code",
   "execution_count": null,
   "metadata": {},
   "outputs": [],
   "source": [
    "import os\n",
    "import v3io_frames as v3f\n",
    "from v3io import dataplane\n",
    "import requests\n",
    "import urllib3\n",
    "from mlrun import new_function\n",
    "import yaml\n",
    "with open(\"config.yaml\") as f:\n",
    "    config = yaml.safe_load(f)\n",
    "\n",
    "urllib3.disable_warnings(urllib3.exceptions.InsecureRequestWarning)\n",
    "\n",
    "DASHBOARD_URL = f\"https://dashboard.{os.getenv('IGZ_NAMESPACE_DOMAIN')}\"\n",
    "session = requests.Session()\n",
    "session.auth = (os.getenv(\"V3IO_USERNAME\"), config['api']['auth'])\n",
    "auth = session.post(f'{DASHBOARD_URL}/api/sessions', verify=False)\n",
    "\n",
    "# Remove API Gateway\n",
    "try:\n",
    "    print(f\"Deleting API Gateway '{config['api']['gateway']}'...\")\n",
    "    response = session.delete(f\"{DASHBOARD_URL}/api/api_gateways/{config['api']['gateway']}\")\n",
    "except:\n",
    "    print(f\"Failed to delete API Gateway '{API_GATEWAY}'.\")\n",
    "    pass\n",
    "\n",
    "# Remove functions\n",
    "functions = [f\"{config['project']['name']}-{config['api']['get_image_function']}\", f\"{config['project']['name']}-{config['api']['facial_recognition_function']}\"]\n",
    "for function in functions:\n",
    "    try:\n",
    "        print(f\"Deleting Function '{function}'...\")\n",
    "        response = session.delete(f'{DASHBOARD_URL}/api/functions/{function}')\n",
    "    except:\n",
    "        print(f\"Failed to delete Function '{function}'.\")\n",
    "        pass\n",
    "\n",
    "# Remove streams\n",
    "frames_client = v3f.Client(\"framesd:8081\",container=\"bigdata\")\n",
    "streams = [config['stream']['raw_video_stream'], config['stream']['tagged_video_stream']]\n",
    "for stream in streams:\n",
    "    try:\n",
    "        print(f\"Deleting Stream '{stream}'...\")\n",
    "        frames_client.delete(\"stream\",table=stream)\n",
    "    except:\n",
    "        print(f\"Failed to delete Stream '{stream}'.\")\n",
    "        pass\n",
    "\n",
    "# Remove table\n",
    "v3io_client = v3f.Client('framesd:8081',container=config['project']['container'])\n",
    "try:\n",
    "    print(f\"Deleting Table '{config['camera']['list_table']}'...\")\n",
    "    v3io_client.delete('kv', config['camera']['list_table'])\n",
    "except:\n",
    "    print(f\"Table '{config['camera']['list_table']}' already deleted.\")\n",
    "    pass\n",
    "\n",
    "print(\"Done.\")"
   ]
  },
  {
   "cell_type": "code",
   "execution_count": null,
   "metadata": {},
   "outputs": [],
   "source": []
  }
 ],
 "metadata": {
  "kernelspec": {
   "display_name": "Python 3",
   "language": "python",
   "name": "python3"
  },
  "language_info": {
   "codemirror_mode": {
    "name": "ipython",
    "version": 3
   },
   "file_extension": ".py",
   "mimetype": "text/x-python",
   "name": "python",
   "nbconvert_exporter": "python",
   "pygments_lexer": "ipython3",
   "version": "3.7.6"
  }
 },
 "nbformat": 4,
 "nbformat_minor": 4
}
