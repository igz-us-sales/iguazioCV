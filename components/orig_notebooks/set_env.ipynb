{
 "cells": [
  {
   "cell_type": "code",
   "execution_count": 8,
   "metadata": {},
   "outputs": [],
   "source": [
    "import os"
   ]
  },
  {
   "cell_type": "code",
   "execution_count": 1,
   "metadata": {},
   "outputs": [],
   "source": [
    "IGZ_CONTAINER = 'bigdata'\n",
    "RAW_VIDEO_STREAM = 'objectrecognition/videostream'\n",
    "TAGGED_VIDEO_STREAM = 'objectrecognition/taggedvideos'\n",
    "LOWRES_VIDEO_STREAM = 'objectrecognition/lowresvideos'\n",
    "# CAMERA_LIST_TBL = 'objectrecognition/camera_list'\n",
    "CAMERA_LIST_TBL = 'camera_list'\n",
    "API_GATEWAY = 'camera-img'\n",
    "PROJECT = 'objectrecognition'\n",
    "GET_IMAGE_FUNCTION = 'latest-image-retrieve'\n",
    "IGZ_AUTH = 'IL!keD@t@123'\n",
    "ROTATE_180='True'\n",
    "\n",
    "shardId = \"0\"\n",
    "cameraID = \"0\""
   ]
  },
  {
   "cell_type": "code",
   "execution_count": 10,
   "metadata": {},
   "outputs": [],
   "source": [
    "os.environ['IGZ_CONTAINER'] = IGZ_CONTAINER\n",
    "os.environ['RAW_VIDEO_STREAM']=RAW_VIDEO_STREAM\n",
    "os.environ['TAGGED_VIDEO_STREAM']=TAGGED_VIDEO_STREAM\n",
    "os.environ['LOWRES_VIDEO_STREAM']=LOWRES_VIDEO_STREAM \n",
    "os.environ['CAMERA_LIST_TBL']=CAMERA_LIST_TBL\n",
    "os.environ['API_GATEWAY']=API_GATEWAY\n",
    "os.environ[\"shardId\"] = shardId\n",
    "os.environ[\"cameraID\"] = cameraID\n",
    "os.environ[\"PROJECT\"] = PROJECT\n",
    "os.environ[\"GET_IMAGE_FUNCTION\"] = GET_IMAGE_FUNCTION\n",
    "os.environ[\"IGZ_AUTH\"] = IGZ_AUTH\n",
    "os.environ[\"ROTATE_180\"] = ROTATE_180"
   ]
  },
  {
   "cell_type": "code",
   "execution_count": null,
   "metadata": {},
   "outputs": [],
   "source": []
  }
 ],
 "metadata": {
  "kernelspec": {
   "display_name": "Python 3",
   "language": "python",
   "name": "python3"
  },
  "language_info": {
   "codemirror_mode": {
    "name": "ipython",
    "version": 3
   },
   "file_extension": ".py",
   "mimetype": "text/x-python",
   "name": "python",
   "nbconvert_exporter": "python",
   "pygments_lexer": "ipython3",
   "version": "3.7.6"
  }
 },
 "nbformat": 4,
 "nbformat_minor": 4
}
